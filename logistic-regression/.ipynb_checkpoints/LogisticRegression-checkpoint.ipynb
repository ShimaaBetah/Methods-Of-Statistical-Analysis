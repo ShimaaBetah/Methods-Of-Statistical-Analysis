{
 "cells": [
  {
   "cell_type": "code",
   "execution_count": 5,
   "id": "addressed-produce",
   "metadata": {},
   "outputs": [],
   "source": [
    "import pandas as pd\n",
    "import numpy as np\n",
    "from sklearn.linear_model import LogisticRegression\n",
    "from sklearn.model_selection import train_test_split\n",
    "import matplotlib.pyplot as plt\n",
    "from sklearn import preprocessing\n",
    "import statsmodels.api as sm\n",
    "from sklearn.metrics import r2_score\n",
    "from sklearn.metrics import roc_curve ,roc_auc_score\n",
    "import sys"
   ]
  },
  {
   "cell_type": "code",
   "execution_count": 6,
   "id": "prescription-projector",
   "metadata": {},
   "outputs": [],
   "source": [
    "data = pd.read_csv(\"yeast_csv.csv\")"
   ]
  },
  {
   "cell_type": "code",
   "execution_count": 7,
   "id": "dramatic-damage",
   "metadata": {},
   "outputs": [],
   "source": [
    "df = pd.DataFrame(data)"
   ]
  },
  {
   "cell_type": "code",
   "execution_count": 8,
   "id": "expected-monitoring",
   "metadata": {},
   "outputs": [
    {
     "data": {
      "text/html": [
       "<div>\n",
       "<style scoped>\n",
       "    .dataframe tbody tr th:only-of-type {\n",
       "        vertical-align: middle;\n",
       "    }\n",
       "\n",
       "    .dataframe tbody tr th {\n",
       "        vertical-align: top;\n",
       "    }\n",
       "\n",
       "    .dataframe thead th {\n",
       "        text-align: right;\n",
       "    }\n",
       "</style>\n",
       "<table border=\"1\" class=\"dataframe\">\n",
       "  <thead>\n",
       "    <tr style=\"text-align: right;\">\n",
       "      <th></th>\n",
       "      <th>mcg</th>\n",
       "      <th>gvh</th>\n",
       "      <th>alm</th>\n",
       "      <th>mit</th>\n",
       "      <th>erl</th>\n",
       "      <th>pox</th>\n",
       "      <th>vac</th>\n",
       "      <th>nuc</th>\n",
       "      <th>class_protein_localization</th>\n",
       "    </tr>\n",
       "  </thead>\n",
       "  <tbody>\n",
       "    <tr>\n",
       "      <th>0</th>\n",
       "      <td>0.58</td>\n",
       "      <td>0.61</td>\n",
       "      <td>0.47</td>\n",
       "      <td>0.13</td>\n",
       "      <td>0.5</td>\n",
       "      <td>0.0</td>\n",
       "      <td>0.48</td>\n",
       "      <td>0.22</td>\n",
       "      <td>MIT</td>\n",
       "    </tr>\n",
       "    <tr>\n",
       "      <th>1</th>\n",
       "      <td>0.43</td>\n",
       "      <td>0.67</td>\n",
       "      <td>0.48</td>\n",
       "      <td>0.27</td>\n",
       "      <td>0.5</td>\n",
       "      <td>0.0</td>\n",
       "      <td>0.53</td>\n",
       "      <td>0.22</td>\n",
       "      <td>MIT</td>\n",
       "    </tr>\n",
       "    <tr>\n",
       "      <th>2</th>\n",
       "      <td>0.64</td>\n",
       "      <td>0.62</td>\n",
       "      <td>0.49</td>\n",
       "      <td>0.15</td>\n",
       "      <td>0.5</td>\n",
       "      <td>0.0</td>\n",
       "      <td>0.53</td>\n",
       "      <td>0.22</td>\n",
       "      <td>MIT</td>\n",
       "    </tr>\n",
       "    <tr>\n",
       "      <th>3</th>\n",
       "      <td>0.58</td>\n",
       "      <td>0.44</td>\n",
       "      <td>0.57</td>\n",
       "      <td>0.13</td>\n",
       "      <td>0.5</td>\n",
       "      <td>0.0</td>\n",
       "      <td>0.54</td>\n",
       "      <td>0.22</td>\n",
       "      <td>NUC</td>\n",
       "    </tr>\n",
       "    <tr>\n",
       "      <th>4</th>\n",
       "      <td>0.42</td>\n",
       "      <td>0.44</td>\n",
       "      <td>0.48</td>\n",
       "      <td>0.54</td>\n",
       "      <td>0.5</td>\n",
       "      <td>0.0</td>\n",
       "      <td>0.48</td>\n",
       "      <td>0.22</td>\n",
       "      <td>MIT</td>\n",
       "    </tr>\n",
       "  </tbody>\n",
       "</table>\n",
       "</div>"
      ],
      "text/plain": [
       "    mcg   gvh   alm   mit  erl  pox   vac   nuc class_protein_localization\n",
       "0  0.58  0.61  0.47  0.13  0.5  0.0  0.48  0.22                        MIT\n",
       "1  0.43  0.67  0.48  0.27  0.5  0.0  0.53  0.22                        MIT\n",
       "2  0.64  0.62  0.49  0.15  0.5  0.0  0.53  0.22                        MIT\n",
       "3  0.58  0.44  0.57  0.13  0.5  0.0  0.54  0.22                        NUC\n",
       "4  0.42  0.44  0.48  0.54  0.5  0.0  0.48  0.22                        MIT"
      ]
     },
     "execution_count": 8,
     "metadata": {},
     "output_type": "execute_result"
    }
   ],
   "source": [
    "df.head()"
   ]
  },
  {
   "cell_type": "code",
   "execution_count": 81,
   "id": "finished-supervisor",
   "metadata": {},
   "outputs": [
    {
     "name": "stdout",
     "output_type": "stream",
     "text": [
      "['CYT' 'ERL' 'EXC' 'ME1' 'ME2' 'ME3' 'MIT' 'NUC' 'POX' 'VAC']\n"
     ]
    }
   ],
   "source": [
    "log_reg = LogisticRegression(max_iter= 20000,multi_class='ovr')\n",
    "features = ['mcg', 'gvh', 'alm', 'mit', 'erl', 'pox', 'vac', 'nuc']\n",
    "X = df[features].to_numpy()\n",
    "std_scaler = preprocessing.StandardScaler().fit(X)\n",
    "X = std_scaler.fit_transform(X)\n",
    "y = df.class_protein_localization\n",
    "X_train, X_test, y_train, y_test = train_test_split(X, y, test_size=0.33, random_state=42)\n",
    "log_reg.fit(X_train,y_train)\n",
    "classes = log_reg.classes_\n",
    "print(classes)"
   ]
  },
  {
   "cell_type": "code",
   "execution_count": 82,
   "id": "facial-lawrence",
   "metadata": {},
   "outputs": [],
   "source": [
    "coefs=log_reg.coef_"
   ]
  },
  {
   "cell_type": "code",
   "execution_count": null,
   "id": "southwest-princeton",
   "metadata": {},
   "outputs": [],
   "source": []
  },
  {
   "cell_type": "code",
   "execution_count": 83,
   "id": "acoustic-environment",
   "metadata": {},
   "outputs": [
    {
     "data": {
      "text/plain": [
       "array([[-1.00742360e+00, -1.81575939e-02, -2.30551005e-01,\n",
       "         6.69696800e-01, -4.44049629e-01, -5.04200109e-02,\n",
       "        -2.47568413e-01,  1.65247582e-01, -5.17908719e-01],\n",
       "       [-1.14211544e+01,  9.24579437e-01,  8.47215579e-01,\n",
       "        -1.97745312e-01,  5.62626983e-01,  8.69939643e-01,\n",
       "        -4.36321932e-03,  2.86074604e-01, -3.45602594e-01],\n",
       "       [-6.39330205e+00,  1.12930831e+00,  1.53284148e+00,\n",
       "         7.18240685e-01, -6.08475469e-01, -4.40228889e-01,\n",
       "        -1.91482875e-01, -4.58963424e-01, -7.21590607e-01],\n",
       "       [-7.32329315e+00,  1.33188197e+00,  1.42949374e+00,\n",
       "        -1.09828581e+00, -2.01796118e-01, -4.52332007e-01,\n",
       "        -1.44396292e-01,  4.21021845e-01,  4.48238485e-01],\n",
       "       [-4.58908935e+00,  1.50738583e+00, -4.03619741e-01,\n",
       "        -7.66052311e-01, -3.15208698e-02, -1.85109587e-02,\n",
       "        -2.58621227e-01,  4.35607566e-03, -5.29841218e-01],\n",
       "       [-4.22795586e+00, -1.24505284e+00, -4.05263915e-02,\n",
       "        -2.71820567e+00, -3.87444275e-01,  4.48186282e-02,\n",
       "        -2.02950340e-01,  1.42951032e-01, -7.61722264e-02],\n",
       "       [-2.25139348e+00, -1.51895725e-01,  3.79428628e-01,\n",
       "         3.31368282e-01,  1.17044111e+00, -4.39216037e-01,\n",
       "         6.17021028e-02,  4.23941269e-01, -6.93775008e-01],\n",
       "       [-1.16784549e+00, -2.95370995e-01, -2.12008096e-01,\n",
       "         6.30117275e-01, -4.82672216e-01,  6.24169356e-03,\n",
       "        -5.05854078e-01, -1.69019065e-01,  8.69527583e-01],\n",
       "       [-4.86080784e+00,  1.71694574e-01, -1.31858884e-01,\n",
       "         7.62362946e-02, -2.68482589e-01, -1.73015184e-01,\n",
       "         5.63128411e-01, -1.32561291e-01, -5.02941934e-01],\n",
       "       [-4.51775826e+00,  4.46432666e-01, -3.42890672e-01,\n",
       "        -4.37690657e-01, -8.78658260e-01, -2.58775688e-01,\n",
       "        -2.31063231e-01,  4.66043318e-01, -4.70902844e-01]])"
      ]
     },
     "execution_count": 83,
     "metadata": {},
     "output_type": "execute_result"
    }
   ],
   "source": [
    "intercepts=log_reg.intercept_\n",
    "sklearn_coef = np.empty([len(classes),len(features)+1])\n",
    "i = 0\n",
    "for i in range (10):\n",
    "    curr_coef=[]\n",
    "    curr_coef.append(intercepts[i])\n",
    "    curr_coef.extend(coefs[i])\n",
    "    sklearn_coef[i]=curr_coef\n",
    "sklearn_coef    "
   ]
  },
  {
   "cell_type": "code",
   "execution_count": 84,
   "id": "broke-mining",
   "metadata": {
    "scrolled": true
   },
   "outputs": [
    {
     "data": {
      "text/plain": [
       "array(['MIT', 'MIT', 'CYT', 'CYT', 'ME3', 'MIT', 'CYT', 'CYT', 'CYT',\n",
       "       'ME3', 'ME3', 'MIT', 'NUC', 'CYT', 'NUC', 'NUC', 'ME2', 'ME3',\n",
       "       'ME3', 'CYT', 'NUC', 'NUC', 'ME3', 'NUC', 'MIT', 'CYT', 'MIT',\n",
       "       'NUC', 'CYT', 'ME3', 'CYT', 'CYT', 'ME3', 'NUC', 'CYT', 'CYT',\n",
       "       'POX', 'CYT', 'NUC', 'MIT', 'CYT', 'ME3', 'CYT', 'CYT', 'CYT',\n",
       "       'MIT', 'NUC', 'NUC', 'CYT', 'NUC', 'NUC', 'CYT', 'ME3', 'CYT',\n",
       "       'NUC', 'CYT', 'CYT', 'MIT', 'CYT', 'ME3', 'NUC', 'NUC', 'CYT',\n",
       "       'EXC', 'NUC', 'CYT', 'ME2', 'CYT', 'CYT', 'CYT', 'CYT', 'CYT',\n",
       "       'MIT', 'CYT', 'ME1', 'CYT', 'MIT', 'CYT', 'CYT', 'MIT', 'MIT',\n",
       "       'CYT', 'ME3', 'MIT', 'NUC', 'MIT', 'NUC', 'MIT', 'ME1', 'CYT',\n",
       "       'CYT', 'CYT', 'MIT', 'CYT', 'ME3', 'EXC', 'NUC', 'MIT', 'CYT',\n",
       "       'NUC', 'CYT', 'CYT', 'ME3', 'CYT', 'ME3', 'CYT', 'MIT', 'MIT',\n",
       "       'CYT', 'NUC', 'NUC', 'NUC', 'CYT', 'NUC', 'NUC', 'NUC', 'CYT',\n",
       "       'NUC', 'CYT', 'NUC', 'MIT', 'CYT', 'MIT', 'ME3', 'NUC', 'MIT',\n",
       "       'CYT', 'CYT', 'CYT', 'MIT', 'ME2', 'CYT', 'ME3', 'NUC', 'ME3',\n",
       "       'ME3', 'MIT', 'CYT', 'NUC', 'CYT', 'CYT', 'EXC', 'CYT', 'ME3',\n",
       "       'NUC', 'NUC', 'NUC', 'CYT', 'CYT', 'CYT', 'ME3', 'CYT', 'NUC',\n",
       "       'NUC', 'CYT', 'ME3', 'CYT', 'NUC', 'ME3', 'CYT', 'ME1', 'NUC',\n",
       "       'NUC', 'CYT', 'CYT', 'NUC', 'ME1', 'MIT', 'MIT', 'CYT', 'CYT',\n",
       "       'CYT', 'NUC', 'NUC', 'CYT', 'NUC', 'CYT', 'CYT', 'CYT', 'EXC',\n",
       "       'NUC', 'NUC', 'ME2', 'NUC', 'NUC', 'CYT', 'ME1', 'CYT', 'CYT',\n",
       "       'CYT', 'CYT', 'CYT', 'CYT', 'CYT', 'NUC', 'CYT', 'NUC', 'NUC',\n",
       "       'NUC', 'CYT', 'MIT', 'MIT', 'ME3', 'NUC', 'MIT', 'MIT', 'ME3',\n",
       "       'ME2', 'CYT', 'CYT', 'CYT', 'NUC', 'MIT', 'NUC', 'CYT', 'NUC',\n",
       "       'MIT', 'NUC', 'CYT', 'MIT', 'CYT', 'CYT', 'NUC', 'NUC', 'POX',\n",
       "       'NUC', 'MIT', 'MIT', 'NUC', 'CYT', 'CYT', 'EXC', 'NUC', 'ME3',\n",
       "       'NUC', 'NUC', 'MIT', 'CYT', 'NUC', 'NUC', 'NUC', 'NUC', 'ME3',\n",
       "       'CYT', 'CYT', 'NUC', 'NUC', 'NUC', 'ME3', 'NUC', 'CYT', 'CYT',\n",
       "       'ME3', 'CYT', 'NUC', 'ME3', 'MIT', 'NUC', 'MIT', 'CYT', 'CYT',\n",
       "       'NUC', 'CYT', 'CYT', 'ME3', 'CYT', 'CYT', 'ME2', 'NUC', 'CYT',\n",
       "       'CYT', 'CYT', 'MIT', 'CYT', 'MIT', 'EXC', 'CYT', 'MIT', 'NUC',\n",
       "       'MIT', 'NUC', 'CYT', 'ME3', 'NUC', 'CYT', 'ME1', 'NUC', 'NUC',\n",
       "       'NUC', 'ME3', 'ME3', 'ME3', 'CYT', 'CYT', 'CYT', 'NUC', 'CYT',\n",
       "       'CYT', 'CYT', 'NUC', 'ME1', 'NUC', 'CYT', 'CYT', 'ME1', 'CYT',\n",
       "       'MIT', 'ME3', 'CYT', 'CYT', 'CYT', 'ME3', 'CYT', 'ME3', 'ME3',\n",
       "       'MIT', 'ME2', 'CYT', 'CYT', 'MIT', 'CYT', 'CYT', 'MIT', 'ME3',\n",
       "       'MIT', 'MIT', 'NUC', 'MIT', 'MIT', 'CYT', 'NUC', 'MIT', 'NUC',\n",
       "       'ME3', 'CYT', 'ME1', 'CYT', 'MIT', 'CYT', 'MIT', 'NUC', 'MIT',\n",
       "       'CYT', 'NUC', 'NUC', 'NUC', 'CYT', 'NUC', 'NUC', 'CYT', 'MIT',\n",
       "       'NUC', 'CYT', 'CYT', 'CYT', 'CYT', 'CYT', 'NUC', 'MIT', 'MIT',\n",
       "       'ME1', 'MIT', 'NUC', 'NUC', 'MIT', 'ME1', 'CYT', 'CYT', 'NUC',\n",
       "       'ME3', 'MIT', 'NUC', 'MIT', 'MIT', 'NUC', 'NUC', 'CYT', 'CYT',\n",
       "       'CYT', 'CYT', 'NUC', 'MIT', 'CYT', 'NUC', 'CYT', 'NUC', 'MIT',\n",
       "       'CYT', 'ME3', 'CYT', 'CYT', 'ME3', 'CYT', 'CYT', 'NUC', 'CYT',\n",
       "       'CYT', 'ME3', 'CYT', 'CYT', 'CYT', 'ME3', 'ME3', 'CYT', 'ME3',\n",
       "       'ME3', 'CYT', 'CYT', 'ME3', 'ME1', 'CYT', 'CYT', 'CYT', 'ME2',\n",
       "       'CYT', 'NUC', 'CYT', 'CYT', 'NUC', 'ME3', 'ME3', 'POX', 'MIT',\n",
       "       'ME1', 'CYT', 'ME3', 'CYT', 'CYT', 'NUC', 'ME3', 'NUC', 'CYT',\n",
       "       'ME3', 'ERL', 'MIT', 'NUC', 'CYT', 'NUC', 'CYT', 'NUC', 'NUC',\n",
       "       'NUC', 'CYT', 'MIT', 'CYT', 'CYT', 'ME3', 'CYT', 'NUC', 'ME3',\n",
       "       'NUC', 'CYT', 'CYT', 'NUC', 'ME3', 'MIT', 'NUC', 'NUC', 'ME3',\n",
       "       'MIT', 'ME1', 'MIT', 'NUC', 'NUC', 'CYT', 'CYT', 'CYT', 'NUC',\n",
       "       'CYT', 'NUC', 'NUC', 'CYT', 'CYT', 'CYT', 'ME3', 'CYT', 'CYT',\n",
       "       'MIT', 'ME3', 'CYT', 'NUC', 'ME2', 'MIT', 'NUC', 'NUC', 'CYT',\n",
       "       'CYT', 'ME3', 'MIT', 'CYT'], dtype=object)"
      ]
     },
     "execution_count": 84,
     "metadata": {},
     "output_type": "execute_result"
    }
   ],
   "source": [
    "log_reg.predict(X_test)"
   ]
  },
  {
   "cell_type": "code",
   "execution_count": 85,
   "id": "continent-finance",
   "metadata": {},
   "outputs": [
    {
     "data": {
      "text/plain": [
       "0.5979591836734693"
      ]
     },
     "execution_count": 85,
     "metadata": {},
     "output_type": "execute_result"
    }
   ],
   "source": [
    "log_reg.score(X_test,y_test)"
   ]
  },
  {
   "cell_type": "markdown",
   "id": "satellite-district",
   "metadata": {},
   "source": [
    "## Gradient descent for logistic regression "
   ]
  },
  {
   "cell_type": "code",
   "execution_count": 86,
   "id": "removable-winning",
   "metadata": {},
   "outputs": [],
   "source": [
    "def gradient_descend (X, y ,n_iteration= 10000, learning_rate = 0.8):\n",
    "    m,n = np.shape(X)\n",
    "    beta = np.random.uniform(-10,10,n)\n",
    "    for i in range (n_iteration):\n",
    "        error = sigmoid(X,beta)-y\n",
    "        sub = X.T@error\n",
    "        beta -= learning_rate*(1/m)*sub\n",
    "    return beta    "
   ]
  },
  {
   "cell_type": "code",
   "execution_count": 87,
   "id": "expired-input",
   "metadata": {},
   "outputs": [],
   "source": [
    "def sigmoid (X,beta):\n",
    "    return 1/(1+np.exp(-1*(X@beta)))"
   ]
  },
  {
   "cell_type": "code",
   "execution_count": 88,
   "id": "pretty-still",
   "metadata": {},
   "outputs": [],
   "source": [
    "#X= sm.add_constant(X)\n",
    "\n",
    "#beta = gradient_descend(X,y)\n"
   ]
  },
  {
   "cell_type": "markdown",
   "id": "third-credits",
   "metadata": {},
   "source": [
    "## class for multiclass logistic regresssion"
   ]
  },
  {
   "cell_type": "code",
   "execution_count": 89,
   "id": "conservative-organic",
   "metadata": {},
   "outputs": [],
   "source": [
    "class MultiClassLogistic :\n",
    "    def __init__(self,X,y,classes):\n",
    "        self.X = X\n",
    "        self.y = y\n",
    "        self.set_classes = classes\n",
    "        self.no_of_classes = len(self.set_classes)\n",
    "        self.map = self.set_map()\n",
    "        self.betas = self.beta_s(self.X)\n",
    "        self.m = np.size(self.y)\n",
    "    def set_map(self):\n",
    "        dict = {}\n",
    "        i = 0\n",
    "        for x in self.set_classes:\n",
    "            dict[i] = x\n",
    "            i+=1\n",
    "        return dict  \n",
    "    def beta_s (self,X):\n",
    "        m,n = np.shape(X)\n",
    "        betas=np.empty([self.no_of_classes,n])\n",
    "        \n",
    "        for i in range (0,self.no_of_classes):\n",
    "            curr_y = self.get_y_forclass(i)\n",
    "            betas[i]=(gradient_descend(X,curr_y))\n",
    "        return betas    \n",
    "    def get_y_forclass(self,key):\n",
    "        needed_class = self.map[key]\n",
    "        new_y = [1 if item == needed_class else 0 for item in self.y]\n",
    "        return new_y\n",
    "    def predict (self,X):\n",
    "        (m,n) = np.shape(X)\n",
    "        class_Scores=1/(1+np.exp(-1*(X@self.betas.T)))\n",
    "        predictions = []\n",
    "        for i in range (m):\n",
    "            predictions.append(self.get_predicted_class(class_Scores[i]))\n",
    "        return predictions    \n",
    "    def get_predicted_class(self,class_score):\n",
    "        maxi = -1*sys.maxsize\n",
    "        key = -1\n",
    "        for i in range (len(class_score)):\n",
    "             val = class_score[i]\n",
    "             if val> maxi:\n",
    "                key =i\n",
    "                maxi = val\n",
    "                \n",
    "        return self.map[key]  \n",
    "    def get_score(self,predicted_y,actual_y):\n",
    "        n = np.size(actual_y)\n",
    "        correct = 0\n",
    "        for i in range (n):\n",
    "            if(predicted_y[i]==actual_y[i]):\n",
    "                correct+=1\n",
    "        return (correct/n)        "
   ]
  },
  {
   "cell_type": "code",
   "execution_count": 90,
   "id": "reflected-highlight",
   "metadata": {},
   "outputs": [
    {
     "data": {
      "text/plain": [
       "array([[-1.01089560e+00, -1.72656799e-02, -2.31830849e-01,\n",
       "         6.75576700e-01, -4.48617856e-01, -5.07674225e-02,\n",
       "        -2.52606805e-01,  1.67450616e-01, -5.23885453e-01],\n",
       "       [-1.14042568e+01,  1.13506777e+00,  8.59845679e-01,\n",
       "        -1.28321802e-01,  9.96534227e-01,  8.16385479e-01,\n",
       "         5.13924166e-02,  6.31708091e-01, -1.36035185e+00],\n",
       "       [-7.44601211e+00,  1.23528256e+00,  1.81369574e+00,\n",
       "         8.59998890e-01, -9.11725182e-01, -3.81978516e+00,\n",
       "        -4.42920943e-01, -5.07298659e-01, -1.06249676e+00],\n",
       "       [-8.66650632e+00,  1.54205883e+00,  1.71520506e+00,\n",
       "        -1.23338845e+00, -3.39697234e-01, -4.09597042e+00,\n",
       "        -4.53908580e-01,  5.09677742e-01,  6.33591792e-01],\n",
       "       [-4.75082160e+00,  1.62060945e+00, -4.95294927e-01,\n",
       "        -8.05329647e-01, -2.35795614e-02, -2.14319980e-02,\n",
       "        -5.58546464e-01,  1.93200780e-03, -6.05273164e-01],\n",
       "       [-4.75297157e+00, -1.34609631e+00, -4.34254476e-02,\n",
       "        -2.90654246e+00, -4.03105574e-01,  5.01814144e-02,\n",
       "        -3.33271811e+00,  1.55162946e-01, -7.48848511e-02],\n",
       "       [-3.03871161e+00, -1.59125021e-01,  3.89439843e-01,\n",
       "         3.37699421e-01,  1.18590838e+00, -8.33816642e+00,\n",
       "         6.22350828e-02,  4.35236784e-01, -7.15688903e-01],\n",
       "       [-1.21828161e+00, -2.97158885e-01, -2.11107893e-01,\n",
       "         6.37756891e-01, -4.88750701e-01,  6.45752949e-03,\n",
       "        -9.84167674e-01, -1.70749477e-01,  8.79010027e-01],\n",
       "       [-4.97551590e+00,  2.12468520e-01, -1.67132186e-01,\n",
       "         6.59641210e-02, -3.29554971e-01, -5.59456869e-01,\n",
       "         5.69595392e-01, -1.36360236e-01, -6.62148353e-01],\n",
       "       [-5.08545635e+00,  5.03310104e-01, -3.96054345e-01,\n",
       "        -4.62323580e-01, -1.03133395e+00, -7.92196262e-01,\n",
       "        -4.05298805e+00,  4.91355161e-01, -5.55985094e-01]])"
      ]
     },
     "execution_count": 90,
     "metadata": {},
     "output_type": "execute_result"
    }
   ],
   "source": [
    "my_model = MultiClassLogistic(sm.add_constant(X_train),y_train,classes)\n",
    "estimated_beta=my_model.betas\n",
    "estimated_beta"
   ]
  },
  {
   "cell_type": "markdown",
   "id": "inappropriate-plenty",
   "metadata": {},
   "source": [
    "## Compare between coefs from gradient descent and sklearn"
   ]
  },
  {
   "cell_type": "code",
   "execution_count": 91,
   "id": "advised-newcastle",
   "metadata": {},
   "outputs": [
    {
     "data": {
      "text/plain": [
       "array([[ 3.47199812e-03, -8.91914075e-04,  1.27984466e-03,\n",
       "        -5.87990018e-03,  4.56822671e-03,  3.47411628e-04,\n",
       "         5.03839116e-03, -2.20303453e-03,  5.97673372e-03],\n",
       "       [-1.68975745e-02, -2.10488329e-01, -1.26301003e-02,\n",
       "        -6.94235100e-02, -4.33907244e-01,  5.35541640e-02,\n",
       "        -5.57556360e-02, -3.45633487e-01,  1.01474925e+00],\n",
       "       [ 1.05271006e+00, -1.05974247e-01, -2.80854254e-01,\n",
       "        -1.41758205e-01,  3.03249713e-01,  3.37955627e+00,\n",
       "         2.51438068e-01,  4.83352344e-02,  3.40906156e-01],\n",
       "       [ 1.34321316e+00, -2.10176865e-01, -2.85711325e-01,\n",
       "         1.35102643e-01,  1.37901116e-01,  3.64363841e+00,\n",
       "         3.09512287e-01, -8.86558969e-02, -1.85353307e-01],\n",
       "       [ 1.61732247e-01, -1.13223621e-01,  9.16751863e-02,\n",
       "         3.92773361e-02, -7.94130835e-03,  2.92103928e-03,\n",
       "         2.99925236e-01,  2.42406786e-03,  7.54319458e-02],\n",
       "       [ 5.25015704e-01,  1.01043474e-01,  2.89905616e-03,\n",
       "         1.88336791e-01,  1.56612986e-02, -5.36278625e-03,\n",
       "         3.12976777e+00, -1.22119147e-02, -1.28737527e-03],\n",
       "       [ 7.87318132e-01,  7.22929564e-03, -1.00112146e-02,\n",
       "        -6.33113902e-03, -1.54672649e-02,  7.89895038e+00,\n",
       "        -5.32979981e-04, -1.12955145e-02,  2.19138943e-02],\n",
       "       [ 5.04361235e-02,  1.78788993e-03, -9.00203186e-04,\n",
       "        -7.63961605e-03,  6.07848495e-03, -2.15835925e-04,\n",
       "         4.78313596e-01,  1.73041189e-03, -9.48244468e-03],\n",
       "       [ 1.14708062e-01, -4.07739451e-02,  3.52733014e-02,\n",
       "         1.02721735e-02,  6.10723827e-02,  3.86441685e-01,\n",
       "        -6.46698052e-03,  3.79894429e-03,  1.59206419e-01],\n",
       "       [ 5.67698093e-01, -5.68774384e-02,  5.31636737e-02,\n",
       "         2.46329225e-02,  1.52675691e-01,  5.33420574e-01,\n",
       "         3.82192482e+00, -2.53118423e-02,  8.50822499e-02]])"
      ]
     },
     "execution_count": 91,
     "metadata": {},
     "output_type": "execute_result"
    }
   ],
   "source": [
    "np.subtract(sklearn_coef,estimated_beta)"
   ]
  },
  {
   "cell_type": "code",
   "execution_count": 92,
   "id": "vital-shock",
   "metadata": {},
   "outputs": [],
   "source": [
    "predicted_y=my_model.predict(sm.add_constant(X_test))"
   ]
  },
  {
   "cell_type": "code",
   "execution_count": null,
   "id": "desperate-spirituality",
   "metadata": {},
   "outputs": [],
   "source": []
  },
  {
   "cell_type": "code",
   "execution_count": 93,
   "id": "unavailable-consent",
   "metadata": {},
   "outputs": [
    {
     "data": {
      "text/plain": [
       "0.5979591836734693"
      ]
     },
     "execution_count": 93,
     "metadata": {},
     "output_type": "execute_result"
    }
   ],
   "source": [
    "my_model.get_score(predicted_y,y_test.to_numpy())"
   ]
  },
  {
   "cell_type": "markdown",
   "id": "korean-chaos",
   "metadata": {},
   "source": [
    "## Study performance for the model"
   ]
  },
  {
   "cell_type": "code",
   "execution_count": null,
   "id": "streaming-hobby",
   "metadata": {},
   "outputs": [],
   "source": []
  },
  {
   "cell_type": "code",
   "execution_count": 118,
   "id": "criminal-definition",
   "metadata": {},
   "outputs": [
    {
     "name": "stderr",
     "output_type": "stream",
     "text": [
      "/home/shimaa/.local/lib/python3.8/site-packages/sklearn/metrics/_ranking.py:949: UndefinedMetricWarning: No positive samples in y_true, true positive value should be meaningless\n",
      "  warnings.warn(\"No positive samples in y_true, \"\n"
     ]
    },
    {
     "data": {
      "image/png": "[encoded data removed]",
      "text/plain": [
       "<Figure size 432x288 with 1 Axes>"
      ]
     },
     "metadata": {
      "needs_background": "light"
     },
     "output_type": "display_data"
    },
    {
     "data": {
      "image/png": "[encoded data removed]",
      "text/plain": [
       "<Figure size 432x288 with 1 Axes>"
      ]
     },
     "metadata": {
      "needs_background": "light"
     },
     "output_type": "display_data"
    },
    {
     "data": {
      "image/png": "[encoded data removed]",
      "text/plain": [
       "<Figure size 432x288 with 1 Axes>"
      ]
     },
     "metadata": {
      "needs_background": "light"
     },
     "output_type": "display_data"
    },
    {
     "data": {
      "image/png": "[encoded data removed]",
      "text/plain": [
       "<Figure size 432x288 with 1 Axes>"
      ]
     },
     "metadata": {
      "needs_background": "light"
     },
     "output_type": "display_data"
    },
    {
     "data": {
      "image/png": "[encoded data removed]",
      "text/plain": [
       "<Figure size 432x288 with 1 Axes>"
      ]
     },
     "metadata": {
      "needs_background": "light"
     },
     "output_type": "display_data"
    },
    {
     "data": {
      "image/png": "[encoded data removed]",
      "text/plain": [
       "<Figure size 432x288 with 1 Axes>"
      ]
     },
     "metadata": {
      "needs_background": "light"
     },
     "output_type": "display_data"
    },
    {
     "data": {
      "image/png": "[encoded data removed]",
      "text/plain": [
       "<Figure size 432x288 with 1 Axes>"
      ]
     },
     "metadata": {
      "needs_background": "light"
     },
     "output_type": "display_data"
    },
    {
     "data": {
      "image/png": "[encoded data removed]",
      "text/plain": [
       "<Figure size 432x288 with 1 Axes>"
      ]
     },
     "metadata": {
      "needs_background": "light"
     },
     "output_type": "display_data"
    },
    {
     "data": {
      "image/png": "[encoded data removed]",
      "text/plain": [
       "<Figure size 432x288 with 1 Axes>"
      ]
     },
     "metadata": {
      "needs_background": "light"
     },
     "output_type": "display_data"
    },
    {
     "data": {
      "image/png": "[encoded data removed]",
      "text/plain": [
       "<Figure size 432x288 with 1 Axes>"
      ]
     },
     "metadata": {
      "needs_background": "light"
     },
     "output_type": "display_data"
    },
    {
     "data": {
      "text/plain": [
       "<Figure size 432x288 with 0 Axes>"
      ]
     },
     "metadata": {},
     "output_type": "display_data"
    }
   ],
   "source": [
    "\n",
    "\n",
    "for i in range (len(classes)):\n",
    "    proba = log_reg.predict_proba(X_test).T[i]\n",
    "    np.shape(proba)\n",
    "    fpr, tpr, thresholds = roc_curve(y_test, proba, pos_label=classes[i])\n",
    "    plt.plot(fpr,tpr)\n",
    "    plt.xlabel('False positive rate')\n",
    "    plt.ylabel('True positive rate')\n",
    "    plt.title(classes[i])\n",
    "    auc = 0\n",
    "    y_true = [1 if item == classes[i] else 0 for item in y_test ]\n",
    "    try:\n",
    "        auc = roc_auc_score(y_true,proba)\n",
    "    except:\n",
    "        auc = 0\n",
    "    plt.annotate(\"auc = {}\".format(auc),xy=(0.5,0))\n",
    "    plt.figure()"
   ]
  },
  {
   "cell_type": "code",
   "execution_count": null,
   "id": "abroad-casino",
   "metadata": {},
   "outputs": [],
   "source": []
  }
 ],
 "metadata": {
  "kernelspec": {
   "display_name": "Python 3",
   "language": "python",
   "name": "python3"
  },
  "language_info": {
   "codemirror_mode": {
    "name": "ipython",
    "version": 3
   },
   "file_extension": ".py",
   "mimetype": "text/x-python",
   "name": "python",
   "nbconvert_exporter": "python",
   "pygments_lexer": "ipython3",
   "version": "3.8.10"
  }
 },
 "nbformat": 4,
 "nbformat_minor": 5
}
