{
 "cells": [
  {
   "cell_type": "code",
   "execution_count": 5,
   "id": "addressed-produce",
   "metadata": {},
   "outputs": [],
   "source": [
    "import pandas as pd\n",
    "import numpy as np\n",
    "from sklearn.linear_model import LogisticRegression\n",
    "from sklearn.model_selection import train_test_split\n",
    "import matplotlib.pyplot as plt\n",
    "from sklearn import preprocessing\n",
    "import statsmodels.api as sm\n",
    "from sklearn.metrics import r2_score\n",
    "from sklearn.metrics import roc_curve ,roc_auc_score\n",
    "import sys"
   ]
  },
  {
   "cell_type": "code",
   "execution_count": 6,
   "id": "prescription-projector",
   "metadata": {},
   "outputs": [],
   "source": [
    "data = pd.read_csv(\"yeast_csv.csv\")"
   ]
  },
  {
   "cell_type": "code",
   "execution_count": 7,
   "id": "dramatic-damage",
   "metadata": {},
   "outputs": [],
   "source": [
    "df = pd.DataFrame(data)"
   ]
  },
  {
   "cell_type": "code",
   "execution_count": 8,
   "id": "expected-monitoring",
   "metadata": {},
   "outputs": [
    {
     "data": {
      "text/html": [
       "<div>\n",
       "<style scoped>\n",
       "    .dataframe tbody tr th:only-of-type {\n",
       "        vertical-align: middle;\n",
       "    }\n",
       "\n",
       "    .dataframe tbody tr th {\n",
       "        vertical-align: top;\n",
       "    }\n",
       "\n",
       "    .dataframe thead th {\n",
       "        text-align: right;\n",
       "    }\n",
       "</style>\n",
       "<table border=\"1\" class=\"dataframe\">\n",
       "  <thead>\n",
       "    <tr style=\"text-align: right;\">\n",
       "      <th></th>\n",
       "      <th>mcg</th>\n",
       "      <th>gvh</th>\n",
       "      <th>alm</th>\n",
       "      <th>mit</th>\n",
       "      <th>erl</th>\n",
       "      <th>pox</th>\n",
       "      <th>vac</th>\n",
       "      <th>nuc</th>\n",
       "      <th>class_protein_localization</th>\n",
       "    </tr>\n",
       "  </thead>\n",
       "  <tbody>\n",
       "    <tr>\n",
       "      <th>0</th>\n",
       "      <td>0.58</td>\n",
       "      <td>0.61</td>\n",
       "      <td>0.47</td>\n",
       "      <td>0.13</td>\n",
       "      <td>0.5</td>\n",
       "      <td>0.0</td>\n",
       "      <td>0.48</td>\n",
       "      <td>0.22</td>\n",
       "      <td>MIT</td>\n",
       "    </tr>\n",
       "    <tr>\n",
       "      <th>1</th>\n",
       "      <td>0.43</td>\n",
       "      <td>0.67</td>\n",
       "      <td>0.48</td>\n",
       "      <td>0.27</td>\n",
       "      <td>0.5</td>\n",
       "      <td>0.0</td>\n",
       "      <td>0.53</td>\n",
       "      <td>0.22</td>\n",
       "      <td>MIT</td>\n",
       "    </tr>\n",
       "    <tr>\n",
       "      <th>2</th>\n",
       "      <td>0.64</td>\n",
       "      <td>0.62</td>\n",
       "      <td>0.49</td>\n",
       "      <td>0.15</td>\n",
       "      <td>0.5</td>\n",
       "      <td>0.0</td>\n",
       "      <td>0.53</td>\n",
       "      <td>0.22</td>\n",
       "      <td>MIT</td>\n",
       "    </tr>\n",
       "    <tr>\n",
       "      <th>3</th>\n",
       "      <td>0.58</td>\n",
       "      <td>0.44</td>\n",
       "      <td>0.57</td>\n",
       "      <td>0.13</td>\n",
       "      <td>0.5</td>\n",
       "      <td>0.0</td>\n",
       "      <td>0.54</td>\n",
       "      <td>0.22</td>\n",
       "      <td>NUC</td>\n",
       "    </tr>\n",
       "    <tr>\n",
       "      <th>4</th>\n",
       "      <td>0.42</td>\n",
       "      <td>0.44</td>\n",
       "      <td>0.48</td>\n",
       "      <td>0.54</td>\n",
       "      <td>0.5</td>\n",
       "      <td>0.0</td>\n",
       "      <td>0.48</td>\n",
       "      <td>0.22</td>\n",
       "      <td>MIT</td>\n",
       "    </tr>\n",
       "  </tbody>\n",
       "</table>\n",
       "</div>"
      ],
      "text/plain": [
       "    mcg   gvh   alm   mit  erl  pox   vac   nuc class_protein_localization\n",
       "0  0.58  0.61  0.47  0.13  0.5  0.0  0.48  0.22                        MIT\n",
       "1  0.43  0.67  0.48  0.27  0.5  0.0  0.53  0.22                        MIT\n",
       "2  0.64  0.62  0.49  0.15  0.5  0.0  0.53  0.22                        MIT\n",
       "3  0.58  0.44  0.57  0.13  0.5  0.0  0.54  0.22                        NUC\n",
       "4  0.42  0.44  0.48  0.54  0.5  0.0  0.48  0.22                        MIT"
      ]
     },
     "execution_count": 8,
     "metadata": {},
     "output_type": "execute_result"
    }
   ],
   "source": [
    "df.head()"
   ]
  },
  {
   "cell_type": "code",
   "execution_count": 25,
   "id": "finished-supervisor",
   "metadata": {},
   "outputs": [],
   "source": [
    "log_reg = LogisticRegression(max_iter= 20000,multi_class='ovr')\n",
    "features = ['mcg', 'gvh', 'alm', 'mit', 'erl', 'pox', 'vac', 'nuc']\n",
    "X = df[features].to_numpy()\n",
    "std_scaler = preprocessing.StandardScaler().fit(X)\n",
    "X = std_scaler.fit_transform(X)\n",
    "y = df.class_protein_localization\n",
    "X_train, X_test, y_train, y_test = train_test_split(X, y, test_size=0.2, random_state=42)\n",
    "log_reg.fit(X_train,y_train)\n",
    "classes = log_reg.classes_"
   ]
  },
  {
   "cell_type": "code",
   "execution_count": 26,
   "id": "facial-lawrence",
   "metadata": {},
   "outputs": [],
   "source": [
    "coefs=log_reg.coef_"
   ]
  },
  {
   "cell_type": "code",
   "execution_count": null,
   "id": "southwest-princeton",
   "metadata": {},
   "outputs": [],
   "source": []
  },
  {
   "cell_type": "code",
   "execution_count": 27,
   "id": "acoustic-environment",
   "metadata": {},
   "outputs": [
    {
     "data": {
      "text/plain": [
       "array([[-9.83348898e-01, -3.33928327e-03, -2.32355419e-01,\n",
       "         6.77626317e-01, -4.25806375e-01, -6.57325246e-03,\n",
       "        -2.51423503e-01,  1.32572392e-01, -4.51385307e-01],\n",
       "       [-1.17607825e+01,  1.02899454e+00,  8.74894407e-01,\n",
       "        -2.06626485e-01,  4.44458543e-01,  8.73621103e-01,\n",
       "        -3.44010974e-03,  3.54371170e-01, -2.87568298e-01],\n",
       "       [-6.32438442e+00,  1.14140871e+00,  1.45653347e+00,\n",
       "         7.98297894e-01, -4.48256717e-01, -4.41516726e-01,\n",
       "        -1.92741004e-01, -3.81191298e-01, -7.78086908e-01],\n",
       "       [-7.52306722e+00,  1.30542137e+00,  1.51916006e+00,\n",
       "        -1.23364456e+00, -1.46603730e-01, -4.54471365e-01,\n",
       "        -1.41647752e-01,  3.72182093e-01,  4.01847636e-01],\n",
       "       [-4.57792137e+00,  1.53690752e+00, -5.48816606e-01,\n",
       "        -7.35244862e-01,  5.45263101e-03, -1.47624314e-02,\n",
       "        -2.63586454e-01,  9.52837172e-02, -6.33568285e-01],\n",
       "       [-4.24294130e+00, -1.16073563e+00, -1.17198896e-01,\n",
       "        -2.73117611e+00, -4.67906940e-01,  3.54955016e-02,\n",
       "        -2.88206382e-01,  1.39197882e-01, -8.70025714e-02],\n",
       "       [-2.24672843e+00, -1.37272580e-01,  4.19605556e-01,\n",
       "         3.60448685e-01,  1.13195156e+00, -4.70825504e-01,\n",
       "         5.74850741e-02,  4.12448426e-01, -6.54992979e-01],\n",
       "       [-1.13673219e+00, -3.18106003e-01, -1.91007492e-01,\n",
       "         5.94547690e-01, -4.23927119e-01, -4.20047232e-03,\n",
       "        -5.06976158e-01, -1.25735957e-01,  8.43442910e-01],\n",
       "       [-4.92429763e+00,  2.22491415e-01, -4.25249604e-03,\n",
       "         5.69234796e-02, -1.59316479e-01, -1.83245230e-01,\n",
       "         5.78057706e-01, -9.31456913e-02, -5.45669907e-01],\n",
       "       [-4.53177931e+00,  2.34820548e-01, -1.45333178e-01,\n",
       "        -4.84299582e-01, -9.57633763e-01, -2.61487655e-01,\n",
       "        -2.33976047e-01,  4.21937169e-01, -5.78589582e-01]])"
      ]
     },
     "execution_count": 27,
     "metadata": {},
     "output_type": "execute_result"
    }
   ],
   "source": [
    "intercepts=log_reg.intercept_\n",
    "sklearn_coef = np.empty([len(classes),len(features)+1])\n",
    "i = 0\n",
    "for i in range (10):\n",
    "    curr_coef=[]\n",
    "    curr_coef.append(intercepts[i])\n",
    "    curr_coef.extend(coefs[i])\n",
    "    sklearn_coef[i]=curr_coef\n",
    "sklearn_coef    "
   ]
  },
  {
   "cell_type": "code",
   "execution_count": 28,
   "id": "broke-mining",
   "metadata": {
    "scrolled": true
   },
   "outputs": [
    {
     "data": {
      "text/plain": [
       "array(['MIT', 'MIT', 'CYT', 'CYT', 'ME3', 'MIT', 'CYT', 'CYT', 'CYT',\n",
       "       'ME3', 'ME3', 'MIT', 'NUC', 'CYT', 'NUC', 'NUC', 'ME2', 'ME3',\n",
       "       'ME3', 'CYT', 'NUC', 'NUC', 'ME3', 'NUC', 'MIT', 'CYT', 'MIT',\n",
       "       'NUC', 'CYT', 'ME3', 'CYT', 'CYT', 'ME3', 'NUC', 'CYT', 'CYT',\n",
       "       'POX', 'CYT', 'NUC', 'MIT', 'CYT', 'ME3', 'CYT', 'CYT', 'CYT',\n",
       "       'MIT', 'NUC', 'NUC', 'CYT', 'NUC', 'NUC', 'CYT', 'ME3', 'CYT',\n",
       "       'NUC', 'CYT', 'CYT', 'MIT', 'CYT', 'ME3', 'NUC', 'NUC', 'CYT',\n",
       "       'EXC', 'NUC', 'CYT', 'ME2', 'CYT', 'CYT', 'CYT', 'CYT', 'CYT',\n",
       "       'MIT', 'CYT', 'ME1', 'CYT', 'MIT', 'CYT', 'CYT', 'MIT', 'MIT',\n",
       "       'CYT', 'ME3', 'MIT', 'NUC', 'MIT', 'NUC', 'MIT', 'ME1', 'CYT',\n",
       "       'CYT', 'CYT', 'MIT', 'CYT', 'ME3', 'EXC', 'CYT', 'MIT', 'CYT',\n",
       "       'NUC', 'CYT', 'CYT', 'ME3', 'CYT', 'ME3', 'CYT', 'MIT', 'MIT',\n",
       "       'CYT', 'NUC', 'NUC', 'NUC', 'CYT', 'NUC', 'NUC', 'NUC', 'CYT',\n",
       "       'NUC', 'CYT', 'NUC', 'MIT', 'CYT', 'MIT', 'ME3', 'NUC', 'MIT',\n",
       "       'CYT', 'CYT', 'CYT', 'MIT', 'CYT', 'CYT', 'ME3', 'NUC', 'ME3',\n",
       "       'ME3', 'MIT', 'CYT', 'NUC', 'CYT', 'CYT', 'EXC', 'CYT', 'ME3',\n",
       "       'NUC', 'NUC', 'NUC', 'CYT', 'CYT', 'CYT', 'ME3', 'CYT', 'NUC',\n",
       "       'NUC', 'CYT', 'ME3', 'CYT', 'NUC', 'ME3', 'CYT', 'ME1', 'NUC',\n",
       "       'NUC', 'CYT', 'CYT', 'NUC', 'ME1', 'MIT', 'MIT', 'CYT', 'CYT',\n",
       "       'CYT', 'NUC', 'NUC', 'CYT', 'NUC', 'CYT', 'CYT', 'CYT', 'EXC',\n",
       "       'NUC', 'NUC', 'ME2', 'NUC', 'NUC', 'CYT', 'ME1', 'CYT', 'CYT',\n",
       "       'CYT', 'CYT', 'CYT', 'CYT', 'CYT', 'NUC', 'CYT', 'NUC', 'NUC',\n",
       "       'NUC', 'CYT', 'MIT', 'MIT', 'ME3', 'NUC', 'MIT', 'MIT', 'ME3',\n",
       "       'ME2', 'CYT', 'CYT', 'CYT', 'NUC', 'MIT', 'NUC', 'CYT', 'NUC',\n",
       "       'MIT', 'NUC', 'CYT', 'MIT', 'CYT', 'CYT', 'NUC', 'NUC', 'POX',\n",
       "       'NUC', 'MIT', 'MIT', 'NUC', 'CYT', 'CYT', 'EXC', 'NUC', 'ME3',\n",
       "       'NUC', 'NUC', 'MIT', 'CYT', 'NUC', 'NUC', 'NUC', 'NUC', 'ME3',\n",
       "       'MIT', 'CYT', 'NUC', 'NUC', 'NUC', 'ME3', 'NUC', 'CYT', 'CYT',\n",
       "       'ME3', 'CYT', 'NUC', 'ME3', 'MIT', 'NUC', 'MIT', 'CYT', 'CYT',\n",
       "       'NUC', 'CYT', 'CYT', 'ME3', 'CYT', 'CYT', 'ME2', 'CYT', 'CYT',\n",
       "       'CYT', 'CYT', 'MIT', 'CYT', 'MIT', 'EXC', 'CYT', 'MIT', 'NUC',\n",
       "       'MIT', 'NUC', 'CYT', 'ME3', 'NUC', 'CYT', 'ME1', 'NUC', 'NUC',\n",
       "       'NUC', 'ME3', 'ME3', 'ME3', 'CYT', 'CYT', 'CYT', 'NUC', 'CYT'],\n",
       "      dtype=object)"
      ]
     },
     "execution_count": 28,
     "metadata": {},
     "output_type": "execute_result"
    }
   ],
   "source": [
    "log_reg.predict(X_test)"
   ]
  },
  {
   "cell_type": "code",
   "execution_count": 29,
   "id": "continent-finance",
   "metadata": {},
   "outputs": [
    {
     "data": {
      "text/plain": [
       "0.622895622895623"
      ]
     },
     "execution_count": 29,
     "metadata": {},
     "output_type": "execute_result"
    }
   ],
   "source": [
    "log_reg.score(X_test,y_test)"
   ]
  },
  {
   "cell_type": "markdown",
   "id": "satellite-district",
   "metadata": {},
   "source": [
    "## Gradient descent for logistic regression "
   ]
  },
  {
   "cell_type": "code",
   "execution_count": 30,
   "id": "removable-winning",
   "metadata": {},
   "outputs": [],
   "source": [
    "def gradient_descend (X, y ,n_iteration= 10000, learning_rate = 0.8):\n",
    "    m,n = np.shape(X)\n",
    "    beta = np.random.uniform(-10,10,n)\n",
    "    for i in range (n_iteration):\n",
    "        error = sigmoid(X,beta)-y\n",
    "        sub = X.T@error\n",
    "        beta -= learning_rate*(1/m)*sub\n",
    "    return beta    "
   ]
  },
  {
   "cell_type": "code",
   "execution_count": 31,
   "id": "expired-input",
   "metadata": {},
   "outputs": [],
   "source": [
    "def sigmoid (X,beta):\n",
    "    return 1/(1+np.exp(-1*(X@beta)))"
   ]
  },
  {
   "cell_type": "code",
   "execution_count": 32,
   "id": "pretty-still",
   "metadata": {},
   "outputs": [],
   "source": [
    "#X= sm.add_constant(X)\n",
    "\n",
    "#beta = gradient_descend(X,y)\n"
   ]
  },
  {
   "cell_type": "markdown",
   "id": "third-credits",
   "metadata": {},
   "source": [
    "## class for multiclass logistic regresssion"
   ]
  },
  {
   "cell_type": "code",
   "execution_count": 52,
   "id": "conservative-organic",
   "metadata": {},
   "outputs": [],
   "source": [
    "class MultiClassLogistic :\n",
    "    def __init__(self,X,y,classes):\n",
    "        self.X = X\n",
    "        self.y = y\n",
    "        self.set_classes = classes\n",
    "        self.no_of_classes = len(self.set_classes)\n",
    "        self.map = self.set_map()\n",
    "        self.betas = self.beta_s(self.X)\n",
    "        self.m = np.size(self.y)\n",
    "    def set_map(self):\n",
    "        dict = {}\n",
    "        i = 0\n",
    "        for x in self.set_classes:\n",
    "            dict[i] = x\n",
    "            i+=1\n",
    "        return dict  \n",
    "    def beta_s (self,X):\n",
    "        m,n = np.shape(X)\n",
    "        betas=np.empty([self.no_of_classes,n])\n",
    "        \n",
    "        for i in range (0,self.no_of_classes):\n",
    "            curr_y = self.get_y_forclass(i)\n",
    "            betas[i]=(gradient_descend(X,curr_y))\n",
    "        return betas    \n",
    "    def get_y_forclass(self,key):\n",
    "        needed_class = self.map[key]\n",
    "        new_y = [1 if item == needed_class else 0 for item in self.y]\n",
    "        return new_y\n",
    "    def predict (self,X):\n",
    "        (m,n) = np.shape(X)\n",
    "        class_Scores=1/(1+np.exp(-1*(X@self.betas.T)))\n",
    "        predictions = []\n",
    "        for i in range (m):\n",
    "            predictions.append(self.get_predicted_class(class_Scores[i]))\n",
    "        return predictions    \n",
    "    def get_predicted_class(self,class_score):\n",
    "        maxi = -1*sys.maxsize\n",
    "        key = -1\n",
    "        for i in range (len(class_score)):\n",
    "             val = class_score[i]\n",
    "             if val> maxi:\n",
    "                key =i\n",
    "                maxi = val\n",
    "                \n",
    "        return self.map[key]  \n",
    "    def get_score(self,predicted_y,actual_y):\n",
    "        n = np.size(actual_y)\n",
    "        correct = 0\n",
    "        for i in range (n):\n",
    "            if(predicted_y[i]==actual_y[i]):\n",
    "                correct+=1\n",
    "        return (correct/n)        "
   ]
  },
  {
   "cell_type": "code",
   "execution_count": 53,
   "id": "reflected-highlight",
   "metadata": {},
   "outputs": [
    {
     "data": {
      "text/plain": [
       "array([[-9.85879914e-01, -2.50926073e-03, -2.33383655e-01,\n",
       "         6.82487002e-01, -4.29228968e-01, -6.58369630e-03,\n",
       "        -2.56345822e-01,  1.34206781e-01, -4.55441048e-01],\n",
       "       [-1.36488875e+01,  1.47345554e+00,  1.04473614e+00,\n",
       "        -1.81175130e-01,  8.08606071e-01,  8.83792125e-01,\n",
       "        -4.15796974e+00,  1.03426064e+00, -1.63179034e+00],\n",
       "       [-6.91241335e+00,  1.22862387e+00,  1.64464205e+00,\n",
       "         9.42136782e-01, -6.15310186e-01, -9.65186765e-01,\n",
       "        -5.50142768e-01, -4.03183859e-01, -1.08061886e+00],\n",
       "       [-8.86870941e+00,  1.46097839e+00,  1.76897998e+00,\n",
       "        -1.36722534e+00, -2.38740170e-01, -8.33888654e-01,\n",
       "        -5.16730523e+00,  4.46879518e-01,  5.44615418e-01],\n",
       "       [-4.74581180e+00,  1.64000694e+00, -6.39808210e-01,\n",
       "        -7.71978414e-01,  1.70597285e-02, -1.73279016e-02,\n",
       "        -6.81163631e-01,  9.72176313e-02, -7.22075401e-01],\n",
       "       [-4.44946158e+00, -1.23250269e+00, -1.26093421e-01,\n",
       "        -2.88593920e+00, -4.92417947e-01,  3.91365537e-02,\n",
       "        -5.86123283e-01,  1.48061382e-01, -8.34135260e-02],\n",
       "       [-3.09106424e+00, -1.43616880e-01,  4.28657751e-01,\n",
       "         3.66367094e-01,  1.14404253e+00, -8.98910895e+00,\n",
       "         5.80170166e-02,  4.21544930e-01, -6.72195037e-01],\n",
       "       [-1.18333816e+00, -3.20186029e-01, -1.89852774e-01,\n",
       "         6.00139726e-01, -4.27897084e-01, -4.03244185e-03,\n",
       "        -9.57993927e-01, -1.26803434e-01,  8.50684910e-01],\n",
       "       [-5.02528072e+00,  2.55493979e-01, -1.84299314e-02,\n",
       "         5.03232493e-02, -1.95553133e-01, -4.78503094e-01,\n",
       "         5.83662912e-01, -8.88738903e-02, -7.11331262e-01],\n",
       "       [-4.74543489e+00,  2.61050756e-01, -1.64542117e-01,\n",
       "        -5.04585455e-01, -1.10663499e+00, -7.85982778e-01,\n",
       "        -5.72585989e-01,  4.41589146e-01, -6.85228793e-01]])"
      ]
     },
     "execution_count": 53,
     "metadata": {},
     "output_type": "execute_result"
    }
   ],
   "source": [
    "my_model = MultiClassLogistic(sm.add_constant(X_train),y_train,classes)\n",
    "estimated_beta=my_model.betas\n",
    "estimated_beta"
   ]
  },
  {
   "cell_type": "markdown",
   "id": "inappropriate-plenty",
   "metadata": {},
   "source": [
    "## Compare between coefs from gradient descent and sklearn"
   ]
  },
  {
   "cell_type": "code",
   "execution_count": 54,
   "id": "advised-newcastle",
   "metadata": {},
   "outputs": [
    {
     "data": {
      "text/plain": [
       "array([[ 2.53101594e-03, -8.30022537e-04,  1.02823611e-03,\n",
       "        -4.86068558e-03,  3.42259281e-03,  1.04438392e-05,\n",
       "         4.92231969e-03, -1.63438912e-03,  4.05574105e-03],\n",
       "       [ 1.88810495e+00, -4.44461001e-01, -1.69841730e-01,\n",
       "        -2.54513550e-02, -3.64147529e-01, -1.01710215e-02,\n",
       "         4.15452963e+00, -6.79889471e-01,  1.34422204e+00],\n",
       "       [ 5.88028924e-01, -8.72151616e-02, -1.88108580e-01,\n",
       "        -1.43838887e-01,  1.67053469e-01,  5.23670039e-01,\n",
       "         3.57401764e-01,  2.19925604e-02,  3.02531952e-01],\n",
       "       [ 1.34564220e+00, -1.55557026e-01, -2.49819915e-01,\n",
       "         1.33580783e-01,  9.21364410e-02,  3.79417288e-01,\n",
       "         5.02565747e+00, -7.46974244e-02, -1.42767782e-01],\n",
       "       [ 1.67890427e-01, -1.03099426e-01,  9.09916037e-02,\n",
       "         3.67335518e-02, -1.16070974e-02,  2.56547023e-03,\n",
       "         4.17577177e-01, -1.93391415e-03,  8.85071162e-02],\n",
       "       [ 2.06520285e-01,  7.17670672e-02,  8.89452517e-03,\n",
       "         1.54763097e-01,  2.45110066e-02, -3.64105213e-03,\n",
       "         2.97916901e-01, -8.86349979e-03, -3.58904539e-03],\n",
       "       [ 8.44335814e-01,  6.34429972e-03, -9.05219510e-03,\n",
       "        -5.91840941e-03, -1.20909725e-02,  8.51828345e+00,\n",
       "        -5.31942484e-04, -9.09650437e-03,  1.72020575e-02],\n",
       "       [ 4.66059716e-02,  2.08002634e-03, -1.15471782e-03,\n",
       "        -5.59203602e-03,  3.96996527e-03, -1.68030471e-04,\n",
       "         4.51017770e-01,  1.06747728e-03, -7.24200067e-03],\n",
       "       [ 1.00983094e-01, -3.30025640e-02,  1.41774354e-02,\n",
       "         6.60023030e-03,  3.62366535e-02,  2.95257864e-01,\n",
       "        -5.60520544e-03, -4.27180104e-03,  1.65661354e-01],\n",
       "       [ 2.13655572e-01, -2.62302077e-02,  1.92089391e-02,\n",
       "         2.02858732e-02,  1.49001225e-01,  5.24495123e-01,\n",
       "         3.38609942e-01, -1.96519770e-02,  1.06639211e-01]])"
      ]
     },
     "execution_count": 54,
     "metadata": {},
     "output_type": "execute_result"
    }
   ],
   "source": [
    "np.subtract(sklearn_coef,estimated_beta)"
   ]
  },
  {
   "cell_type": "code",
   "execution_count": 55,
   "id": "vital-shock",
   "metadata": {},
   "outputs": [],
   "source": [
    "predicted_y=my_model.predict(sm.add_constant(X_test))"
   ]
  },
  {
   "cell_type": "code",
   "execution_count": null,
   "id": "desperate-spirituality",
   "metadata": {},
   "outputs": [],
   "source": []
  },
  {
   "cell_type": "code",
   "execution_count": 59,
   "id": "unavailable-consent",
   "metadata": {},
   "outputs": [
    {
     "data": {
      "text/plain": [
       "0.622895622895623"
      ]
     },
     "execution_count": 59,
     "metadata": {},
     "output_type": "execute_result"
    }
   ],
   "source": [
    "my_model.get_score(predicted_y,y_test.to_numpy())"
   ]
  },
  {
   "cell_type": "markdown",
   "id": "excessive-theorem",
   "metadata": {},
   "source": [
    "## Study performance for the model"
   ]
  },
  {
   "cell_type": "code",
   "execution_count": null,
   "id": "relative-depth",
   "metadata": {},
   "outputs": [],
   "source": [
    "reg.predict_proba(x_te)\n",
    "#tpr,fpr =roc_curve(y_test,log_reg.predict_proba)"
   ]
  }
 ],
 "metadata": {
  "kernelspec": {
   "display_name": "Python 3",
   "language": "python",
   "name": "python3"
  },
  "language_info": {
   "codemirror_mode": {
    "name": "ipython",
    "version": 3
   },
   "file_extension": ".py",
   "mimetype": "text/x-python",
   "name": "python",
   "nbconvert_exporter": "python",
   "pygments_lexer": "ipython3",
   "version": "3.8.10"
  }
 },
 "nbformat": 4,
 "nbformat_minor": 5
}
