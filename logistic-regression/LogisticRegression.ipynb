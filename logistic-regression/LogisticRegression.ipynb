{
 "cells": [
  {
   "cell_type": "code",
   "execution_count": 7,
   "id": "addressed-produce",
   "metadata": {},
   "outputs": [],
   "source": [
    "import pandas as pd\n",
    "import numpy as np\n",
    "from sklearn.linear_model import LogisticRegression\n",
    "from sklearn.model_selection import train_test_split\n",
    "import matplotlib.pyplot as plt"
   ]
  },
  {
   "cell_type": "code",
   "execution_count": 28,
   "id": "protected-valve",
   "metadata": {},
   "outputs": [
    {
     "data": {
      "text/plain": [
       "<matplotlib.collections.PathCollection at 0x7fcdf10417c0>"
      ]
     },
     "execution_count": 28,
     "metadata": {},
     "output_type": "execute_result"
    },
    {
     "data": {
      "image/png": "[encoded data removed]",
      "text/plain": [
       "<Figure size 432x288 with 1 Axes>"
      ]
     },
     "metadata": {
      "needs_background": "light"
     },
     "output_type": "display_data"
    }
   ],
   "source": [
    "age = [22,25,47,52,46,55,56,60,62,61,18,28,27,29,49,55,25,58,19,18,57,40]\n",
    "pay_insurance = [0,0,1,0,1,1,0,1,1,1,0,0,0,0,1,1,1,1,0,0,0,1]\n",
    "\n",
    "data = pd.DataFrame()\n",
    "data['age' ] = age\n",
    "data['insurance' ] = pay_insurance\n",
    "data.to_csv('age-insurance-data')\n",
    "plt.scatter(data['age'],data['insurance'])\n",
    "plt.scatter(data.age,predictedOnLogisticCurve)"
   ]
  },
  {
   "cell_type": "code",
   "execution_count": 10,
   "id": "secure-ministry",
   "metadata": {},
   "outputs": [],
   "source": [
    "X_train, X_test, y_train, y_test=train_test_split(data[['age']],data.insurance,test_size = 0.1)"
   ]
  },
  {
   "cell_type": "code",
   "execution_count": 12,
   "id": "naughty-northeast",
   "metadata": {},
   "outputs": [
    {
     "data": {
      "text/html": [
       "<div>\n",
       "<style scoped>\n",
       "    .dataframe tbody tr th:only-of-type {\n",
       "        vertical-align: middle;\n",
       "    }\n",
       "\n",
       "    .dataframe tbody tr th {\n",
       "        vertical-align: top;\n",
       "    }\n",
       "\n",
       "    .dataframe thead th {\n",
       "        text-align: right;\n",
       "    }\n",
       "</style>\n",
       "<table border=\"1\" class=\"dataframe\">\n",
       "  <thead>\n",
       "    <tr style=\"text-align: right;\">\n",
       "      <th></th>\n",
       "      <th>age</th>\n",
       "    </tr>\n",
       "  </thead>\n",
       "  <tbody>\n",
       "    <tr>\n",
       "      <th>20</th>\n",
       "      <td>57</td>\n",
       "    </tr>\n",
       "    <tr>\n",
       "      <th>11</th>\n",
       "      <td>28</td>\n",
       "    </tr>\n",
       "    <tr>\n",
       "      <th>19</th>\n",
       "      <td>18</td>\n",
       "    </tr>\n",
       "  </tbody>\n",
       "</table>\n",
       "</div>"
      ],
      "text/plain": [
       "    age\n",
       "20   57\n",
       "11   28\n",
       "19   18"
      ]
     },
     "execution_count": 12,
     "metadata": {},
     "output_type": "execute_result"
    }
   ],
   "source": [
    "X_test"
   ]
  },
  {
   "cell_type": "code",
   "execution_count": 13,
   "id": "humanitarian-klein",
   "metadata": {},
   "outputs": [
    {
     "data": {
      "text/plain": [
       "LogisticRegression()"
      ]
     },
     "execution_count": 13,
     "metadata": {},
     "output_type": "execute_result"
    }
   ],
   "source": [
    "lmodel = LogisticRegression()\n",
    "lmodel.fit(X_train,y_train)"
   ]
  },
  {
   "cell_type": "code",
   "execution_count": 15,
   "id": "threaded-outdoors",
   "metadata": {},
   "outputs": [
    {
     "data": {
      "text/plain": [
       "array([1, 0, 0])"
      ]
     },
     "execution_count": 15,
     "metadata": {},
     "output_type": "execute_result"
    }
   ],
   "source": [
    "lmodel.predict(X_test)"
   ]
  },
  {
   "cell_type": "markdown",
   "id": "wireless-press",
   "metadata": {},
   "source": []
  },
  {
   "cell_type": "code",
   "execution_count": 20,
   "id": "isolated-harrison",
   "metadata": {},
   "outputs": [],
   "source": [
    "predictedOnLogisticCurve = [ arr[1] for arr in lmodel.predict_proba(data[['age']])]"
   ]
  },
  {
   "cell_type": "code",
   "execution_count": 21,
   "id": "armed-geometry",
   "metadata": {},
   "outputs": [
    {
     "data": {
      "text/plain": [
       "[0.15909277997141505,\n",
       " 0.20470632955814305,\n",
       " 0.7110513783876077,\n",
       " 0.8043321476691763,\n",
       " 0.689519999487418,\n",
       " 0.8483158279339903,\n",
       " 0.8610540230263798,\n",
       " 0.9033095254125518,\n",
       " 0.9198115662202264,\n",
       " 0.9119090101320629,\n",
       " 0.1115037592348913,\n",
       " 0.259364098987084,\n",
       " 0.24014296617388087,\n",
       " 0.2795576838576,\n",
       " 0.7513331219519164,\n",
       " 0.8483158279339903,\n",
       " 0.20470632955814305,\n",
       " 0.8838403809575576,\n",
       " 0.12208282709266219,\n",
       " 0.1115037592348913,\n",
       " 0.8728827806634873,\n",
       " 0.5454141713214292]"
      ]
     },
     "execution_count": 21,
     "metadata": {},
     "output_type": "execute_result"
    }
   ],
   "source": [
    "predictedOnLogisticCurve"
   ]
  },
  {
   "cell_type": "code",
   "execution_count": 26,
   "id": "incorporated-promise",
   "metadata": {},
   "outputs": [
    {
     "data": {
      "text/plain": [
       "array([[0.10261958]])"
      ]
     },
     "execution_count": 26,
     "metadata": {},
     "output_type": "execute_result"
    }
   ],
   "source": [
    "# get_coeeficient and intercept\n",
    "lmodel.coef_"
   ]
  },
  {
   "cell_type": "code",
   "execution_count": 27,
   "id": "involved-calibration",
   "metadata": {},
   "outputs": [
    {
     "data": {
      "text/plain": [
       "array([-3.92262461])"
      ]
     },
     "execution_count": 27,
     "metadata": {},
     "output_type": "execute_result"
    }
   ],
   "source": [
    "lmodel.intercept_"
   ]
  },
  {
   "cell_type": "code",
   "execution_count": null,
   "id": "prescription-projector",
   "metadata": {},
   "outputs": [],
   "source": []
  }
 ],
 "metadata": {
  "kernelspec": {
   "display_name": "Python 3",
   "language": "python",
   "name": "python3"
  },
  "language_info": {
   "codemirror_mode": {
    "name": "ipython",
    "version": 3
   },
   "file_extension": ".py",
   "mimetype": "text/x-python",
   "name": "python",
   "nbconvert_exporter": "python",
   "pygments_lexer": "ipython3",
   "version": "3.8.10"
  }
 },
 "nbformat": 4,
 "nbformat_minor": 5
}
