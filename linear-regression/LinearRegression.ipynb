{
 "cells": [
  {
   "cell_type": "code",
   "execution_count": 3,
   "id": "adolescent-intermediate",
   "metadata": {},
   "outputs": [],
   "source": [
    "import pandas as pd\n",
    "import numpy as np\n",
    "from sklearn import linear_model\n",
    "import matplotlib.pyplot as plt"
   ]
  },
  {
   "cell_type": "code",
   "execution_count": 4,
   "id": "verbal-damage",
   "metadata": {},
   "outputs": [
    {
     "data": {
      "text/html": [
       "<div>\n",
       "<style scoped>\n",
       "    .dataframe tbody tr th:only-of-type {\n",
       "        vertical-align: middle;\n",
       "    }\n",
       "\n",
       "    .dataframe tbody tr th {\n",
       "        vertical-align: top;\n",
       "    }\n",
       "\n",
       "    .dataframe thead th {\n",
       "        text-align: right;\n",
       "    }\n",
       "</style>\n",
       "<table border=\"1\" class=\"dataframe\">\n",
       "  <thead>\n",
       "    <tr style=\"text-align: right;\">\n",
       "      <th></th>\n",
       "      <th>area</th>\n",
       "      <th>price</th>\n",
       "    </tr>\n",
       "  </thead>\n",
       "  <tbody>\n",
       "    <tr>\n",
       "      <th>0</th>\n",
       "      <td>2600</td>\n",
       "      <td>550000</td>\n",
       "    </tr>\n",
       "    <tr>\n",
       "      <th>1</th>\n",
       "      <td>3000</td>\n",
       "      <td>565000</td>\n",
       "    </tr>\n",
       "    <tr>\n",
       "      <th>2</th>\n",
       "      <td>3200</td>\n",
       "      <td>610000</td>\n",
       "    </tr>\n",
       "    <tr>\n",
       "      <th>3</th>\n",
       "      <td>3600</td>\n",
       "      <td>680000</td>\n",
       "    </tr>\n",
       "    <tr>\n",
       "      <th>4</th>\n",
       "      <td>4000</td>\n",
       "      <td>725000</td>\n",
       "    </tr>\n",
       "  </tbody>\n",
       "</table>\n",
       "</div>"
      ],
      "text/plain": [
       "   area   price\n",
       "0  2600  550000\n",
       "1  3000  565000\n",
       "2  3200  610000\n",
       "3  3600  680000\n",
       "4  4000  725000"
      ]
     },
     "execution_count": 4,
     "metadata": {},
     "output_type": "execute_result"
    }
   ],
   "source": [
    "data = pd.DataFrame()\n",
    "area = [2600,3000,3200,3600,4000]\n",
    "price = [550000,565000,610000,680000,725000]\n",
    "data['area'] = area\n",
    "data['price'] = price\n",
    "data"
   ]
  },
  {
   "cell_type": "code",
   "execution_count": 5,
   "id": "breathing-overhead",
   "metadata": {},
   "outputs": [],
   "source": [
    "data.to_csv(\"area-prices-data\")"
   ]
  },
  {
   "cell_type": "code",
   "execution_count": 48,
   "id": "surface-vermont",
   "metadata": {},
   "outputs": [
    {
     "data": {
      "text/plain": [
       "[<matplotlib.lines.Line2D at 0x7f494bf1aa90>]"
      ]
     },
     "execution_count": 48,
     "metadata": {},
     "output_type": "execute_result"
    },
    {
     "data": {
      "image/png": "[encoded data removed]",
      "text/plain": [
       "<Figure size 432x288 with 1 Axes>"
      ]
     },
     "metadata": {
      "needs_background": "light"
     },
     "output_type": "display_data"
    }
   ],
   "source": [
    "plt.xlabel = \"area\"\n",
    "plt.ylabel = \"price\"\n",
    "plt.scatter(data.area,data.price)\n",
    "plt.plot(data.area,reg.predict(data[['area']]),color = 'red')"
   ]
  },
  {
   "cell_type": "markdown",
   "id": "raising-blast",
   "metadata": {},
   "source": [
    "## Create Linear Regression Model with sklearn "
   ]
  },
  {
   "cell_type": "code",
   "execution_count": 7,
   "id": "precious-budget",
   "metadata": {},
   "outputs": [
    {
     "data": {
      "text/plain": [
       "LinearRegression()"
      ]
     },
     "execution_count": 7,
     "metadata": {},
     "output_type": "execute_result"
    }
   ],
   "source": [
    "reg = linear_model.LinearRegression()\n",
    "features = ['area']\n",
    "X = data[features]\n",
    "y = data.price\n",
    "# FIT data\n",
    "\n",
    "reg.fit(X,y)\n"
   ]
  },
  {
   "cell_type": "markdown",
   "id": "consolidated-filling",
   "metadata": {},
   "source": [
    "## Get Coefficients\n"
   ]
  },
  {
   "cell_type": "code",
   "execution_count": 8,
   "id": "sexual-reviewer",
   "metadata": {},
   "outputs": [
    {
     "data": {
      "text/plain": [
       "array([135.78767123])"
      ]
     },
     "execution_count": 8,
     "metadata": {},
     "output_type": "execute_result"
    }
   ],
   "source": [
    "reg.coef_\n"
   ]
  },
  {
   "cell_type": "code",
   "execution_count": 9,
   "id": "similar-curve",
   "metadata": {},
   "outputs": [
    {
     "data": {
      "text/plain": [
       "180616.43835616432"
      ]
     },
     "execution_count": 9,
     "metadata": {},
     "output_type": "execute_result"
    }
   ],
   "source": [
    "reg.intercept_"
   ]
  },
  {
   "cell_type": "markdown",
   "id": "lasting-browser",
   "metadata": {},
   "source": [
    "## personal class to prove the formula"
   ]
  },
  {
   "cell_type": "code",
   "execution_count": 38,
   "id": "separate-nightlife",
   "metadata": {},
   "outputs": [],
   "source": [
    "class LinearRegressionModel:\n",
    "    \n",
    "    def __init__(self,x,y):\n",
    "        self.x = x\n",
    "        self.y = y\n",
    "    def getCoefficient (self):\n",
    "        n = len(self.x)\n",
    "        xy = sum(self.x*self.y)\n",
    "        x_square = sum(self.x*self.x)\n",
    "        return (n*xy-sum(self.y)*sum(self.x))/(n*x_square-sum(self.x)*sum(self.x))\n",
    "    def getIntercept (self):\n",
    "        n = len(self.x)\n",
    "        return (sum(self.y)/n)-(self.getCoefficient()*sum(self.x)/n)\n",
    "    def predict (self,arr):\n",
    "        ans= []\n",
    "        for x in arr :\n",
    "            ans.append(self.getCoefficient()*x+self.getIntercept())\n",
    "        return ans    "
   ]
  },
  {
   "cell_type": "code",
   "execution_count": 39,
   "id": "cleared-testament",
   "metadata": {},
   "outputs": [],
   "source": [
    "my_model = LinearRegressionModel(data.area,data.price)"
   ]
  },
  {
   "cell_type": "code",
   "execution_count": 40,
   "id": "organized-heating",
   "metadata": {},
   "outputs": [
    {
     "data": {
      "text/plain": [
       "135.7876712328767"
      ]
     },
     "execution_count": 40,
     "metadata": {},
     "output_type": "execute_result"
    }
   ],
   "source": [
    "my_model.getCoefficient()"
   ]
  },
  {
   "cell_type": "code",
   "execution_count": 41,
   "id": "understood-export",
   "metadata": {},
   "outputs": [
    {
     "data": {
      "text/plain": [
       "180616.43835616438"
      ]
     },
     "execution_count": 41,
     "metadata": {},
     "output_type": "execute_result"
    }
   ],
   "source": [
    "my_model.getIntercept()"
   ]
  },
  {
   "cell_type": "code",
   "execution_count": 45,
   "id": "undefined-lesbian",
   "metadata": {},
   "outputs": [],
   "source": [
    "residuals = data.price - reg.predict(data[['area']])"
   ]
  },
  {
   "cell_type": "code",
   "execution_count": 46,
   "id": "generic-swiss",
   "metadata": {},
   "outputs": [
    {
     "data": {
      "text/plain": [
       "<matplotlib.collections.PathCollection at 0x7f494bfb4520>"
      ]
     },
     "execution_count": 46,
     "metadata": {},
     "output_type": "execute_result"
    },
    {
     "data": {
      "image/png": "[encoded data removed]",
      "text/plain": [
       "<Figure size 432x288 with 1 Axes>"
      ]
     },
     "metadata": {
      "needs_background": "light"
     },
     "output_type": "display_data"
    }
   ],
   "source": [
    "plt.scatter(data.area,residuals)"
   ]
  },
  {
   "cell_type": "code",
   "execution_count": null,
   "id": "scientific-frontier",
   "metadata": {},
   "outputs": [],
   "source": []
  }
 ],
 "metadata": {
  "kernelspec": {
   "display_name": "Python 3",
   "language": "python",
   "name": "python3"
  },
  "language_info": {
   "codemirror_mode": {
    "name": "ipython",
    "version": 3
   },
   "file_extension": ".py",
   "mimetype": "text/x-python",
   "name": "python",
   "nbconvert_exporter": "python",
   "pygments_lexer": "ipython3",
   "version": "3.8.10"
  }
 },
 "nbformat": 4,
 "nbformat_minor": 5
}
