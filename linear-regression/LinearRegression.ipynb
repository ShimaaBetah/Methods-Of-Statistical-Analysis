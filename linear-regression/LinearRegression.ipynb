{
 "cells": [
  {
   "cell_type": "code",
   "execution_count": 3,
   "id": "adolescent-intermediate",
   "metadata": {},
   "outputs": [],
   "source": [
    "import pandas as pd\n",
    "import numpy as np\n",
    "from sklearn.metrics import r2_score\n",
    "from sklearn import linear_model\n",
    "import matplotlib.pyplot as plt\n",
    "import statsmodels.api as sm"
   ]
  },
  {
   "cell_type": "code",
   "execution_count": 4,
   "id": "verbal-damage",
   "metadata": {},
   "outputs": [
    {
     "data": {
      "text/html": [
       "<div>\n",
       "<style scoped>\n",
       "    .dataframe tbody tr th:only-of-type {\n",
       "        vertical-align: middle;\n",
       "    }\n",
       "\n",
       "    .dataframe tbody tr th {\n",
       "        vertical-align: top;\n",
       "    }\n",
       "\n",
       "    .dataframe thead th {\n",
       "        text-align: right;\n",
       "    }\n",
       "</style>\n",
       "<table border=\"1\" class=\"dataframe\">\n",
       "  <thead>\n",
       "    <tr style=\"text-align: right;\">\n",
       "      <th></th>\n",
       "      <th>area</th>\n",
       "      <th>price</th>\n",
       "    </tr>\n",
       "  </thead>\n",
       "  <tbody>\n",
       "    <tr>\n",
       "      <th>0</th>\n",
       "      <td>2600</td>\n",
       "      <td>550000</td>\n",
       "    </tr>\n",
       "    <tr>\n",
       "      <th>1</th>\n",
       "      <td>3000</td>\n",
       "      <td>565000</td>\n",
       "    </tr>\n",
       "    <tr>\n",
       "      <th>2</th>\n",
       "      <td>3200</td>\n",
       "      <td>610000</td>\n",
       "    </tr>\n",
       "    <tr>\n",
       "      <th>3</th>\n",
       "      <td>3600</td>\n",
       "      <td>680000</td>\n",
       "    </tr>\n",
       "    <tr>\n",
       "      <th>4</th>\n",
       "      <td>4000</td>\n",
       "      <td>725000</td>\n",
       "    </tr>\n",
       "  </tbody>\n",
       "</table>\n",
       "</div>"
      ],
      "text/plain": [
       "   area   price\n",
       "0  2600  550000\n",
       "1  3000  565000\n",
       "2  3200  610000\n",
       "3  3600  680000\n",
       "4  4000  725000"
      ]
     },
     "execution_count": 4,
     "metadata": {},
     "output_type": "execute_result"
    }
   ],
   "source": [
    "data = pd.DataFrame()\n",
    "area = [2600,3000,3200,3600,4000]\n",
    "price = [550000,565000,610000,680000,725000]\n",
    "data['area'] = area\n",
    "data['price'] = price\n",
    "data"
   ]
  },
  {
   "cell_type": "code",
   "execution_count": 5,
   "id": "breathing-overhead",
   "metadata": {},
   "outputs": [],
   "source": [
    "data.to_csv(\"area-prices-data\")"
   ]
  },
  {
   "cell_type": "code",
   "execution_count": 16,
   "id": "surface-vermont",
   "metadata": {},
   "outputs": [
    {
     "data": {
      "text/plain": [
       "[<matplotlib.lines.Line2D at 0x7f7a0a331c40>]"
      ]
     },
     "execution_count": 16,
     "metadata": {},
     "output_type": "execute_result"
    },
    {
     "data": {
      "image/png": "[encoded data removed]",
      "text/plain": [
       "<Figure size 432x288 with 1 Axes>"
      ]
     },
     "metadata": {
      "needs_background": "light"
     },
     "output_type": "display_data"
    }
   ],
   "source": [
    "plt.xlabel = \"area\"\n",
    "plt.ylabel = \"price\"\n",
    "plt.scatter(data.area,data.price)\n",
    "plt.plot(data.area,reg.predict(data[['area']]),color = 'red')"
   ]
  },
  {
   "cell_type": "markdown",
   "id": "raising-blast",
   "metadata": {},
   "source": [
    "## Create Linear Regression Model with sklearn "
   ]
  },
  {
   "cell_type": "code",
   "execution_count": 7,
   "id": "precious-budget",
   "metadata": {},
   "outputs": [
    {
     "data": {
      "text/plain": [
       "LinearRegression()"
      ]
     },
     "execution_count": 7,
     "metadata": {},
     "output_type": "execute_result"
    }
   ],
   "source": [
    "reg = linear_model.LinearRegression()\n",
    "features = ['area']\n",
    "X = data[features]\n",
    "y = data.price\n",
    "# FIT data\n",
    "\n",
    "reg.fit(X,y)\n"
   ]
  },
  {
   "cell_type": "markdown",
   "id": "consolidated-filling",
   "metadata": {},
   "source": [
    "## Get Coefficients\n"
   ]
  },
  {
   "cell_type": "code",
   "execution_count": 8,
   "id": "sexual-reviewer",
   "metadata": {},
   "outputs": [
    {
     "data": {
      "text/plain": [
       "array([135.78767123])"
      ]
     },
     "execution_count": 8,
     "metadata": {},
     "output_type": "execute_result"
    }
   ],
   "source": [
    "reg.coef_\n"
   ]
  },
  {
   "cell_type": "code",
   "execution_count": 9,
   "id": "similar-curve",
   "metadata": {},
   "outputs": [
    {
     "data": {
      "text/plain": [
       "180616.43835616432"
      ]
     },
     "execution_count": 9,
     "metadata": {},
     "output_type": "execute_result"
    }
   ],
   "source": [
    "reg.intercept_"
   ]
  },
  {
   "cell_type": "markdown",
   "id": "lasting-browser",
   "metadata": {},
   "source": [
    "## personal class to prove the formula"
   ]
  },
  {
   "cell_type": "code",
   "execution_count": 10,
   "id": "separate-nightlife",
   "metadata": {},
   "outputs": [],
   "source": [
    "class LinearRegressionModel:\n",
    "    \n",
    "    def __init__(self,x,y):\n",
    "        self.x = x\n",
    "        self.y = y\n",
    "        self.xbar = sum(x)/len(x)\n",
    "        self.ybar = sum(y)/len(y)\n",
    "    def getCoefficient (self):\n",
    "        n = len(self.x)\n",
    "        xy = sum(self.x*self.y)\n",
    "        x_square = sum(self.x*self.x)\n",
    "        return (n*xy-sum(self.y)*sum(self.x))/(n*x_square-sum(self.x)*sum(self.x))\n",
    "    def getIntercept (self):\n",
    "        n = len(self.x)\n",
    "        return (sum(self.y)/n)-(self.getCoefficient()*sum(self.x)/n)\n",
    "    def predict (self,arr):\n",
    "        ans= []\n",
    "        for x in arr :\n",
    "            ans.append(self.getCoefficient()*x+self.getIntercept())\n",
    "        return ans \n",
    "    # total deviation from from the mean for actual values  \n",
    "    def getSST (self):\n",
    "        st = [(yi-self.ybar)**2 for yi in self.y]\n",
    "        return sum (st)\n",
    "    # total deviation from the mean for predicted value\n",
    "    def getSSR (self):\n",
    "        sr = [(y_hat-self.ybar)**2 for y_hat in self.predict(self.x)]\n",
    "        return sum(sr)\n",
    "    # total of residuals\n",
    "    def getSSE (self):\n",
    "        se = [(yi-y_hat)**2 for yi in self.y and y_hat in self.predict(self.x)]\n",
    "        return sum (se)\n",
    "    def getRSquared (self) :\n",
    "        return self.getSSR()/self.getSST()"
   ]
  },
  {
   "cell_type": "code",
   "execution_count": 11,
   "id": "cleared-testament",
   "metadata": {},
   "outputs": [],
   "source": [
    "my_model = LinearRegressionModel(data.area,data.price)"
   ]
  },
  {
   "cell_type": "code",
   "execution_count": 12,
   "id": "organized-heating",
   "metadata": {},
   "outputs": [
    {
     "data": {
      "text/plain": [
       "135.7876712328767"
      ]
     },
     "execution_count": 12,
     "metadata": {},
     "output_type": "execute_result"
    }
   ],
   "source": [
    "my_model.getCoefficient()"
   ]
  },
  {
   "cell_type": "code",
   "execution_count": 13,
   "id": "understood-export",
   "metadata": {},
   "outputs": [
    {
     "data": {
      "text/plain": [
       "180616.43835616438"
      ]
     },
     "execution_count": 13,
     "metadata": {},
     "output_type": "execute_result"
    }
   ],
   "source": [
    "my_model.getIntercept()"
   ]
  },
  {
   "cell_type": "markdown",
   "id": "spread-sussex",
   "metadata": {},
   "source": [
    "## Verify model using R square method"
   ]
  },
  {
   "cell_type": "code",
   "execution_count": 14,
   "id": "passive-germany",
   "metadata": {},
   "outputs": [
    {
     "data": {
      "text/plain": [
       "0.9584301138199495"
      ]
     },
     "execution_count": 14,
     "metadata": {},
     "output_type": "execute_result"
    }
   ],
   "source": [
    "my_model.getRSquared() "
   ]
  },
  {
   "cell_type": "code",
   "execution_count": 15,
   "id": "colonial-remainder",
   "metadata": {},
   "outputs": [
    {
     "data": {
      "text/plain": [
       "0.9584301138199486"
      ]
     },
     "execution_count": 15,
     "metadata": {},
     "output_type": "execute_result"
    }
   ],
   "source": [
    "r2_score(data.price,reg.predict(data[['area']]))"
   ]
  },
  {
   "cell_type": "markdown",
   "id": "novel-corruption",
   "metadata": {},
   "source": [
    "## Using statsmodels library for showing more statistics characteristics"
   ]
  },
  {
   "cell_type": "code",
   "execution_count": 28,
   "id": "forward-enterprise",
   "metadata": {},
   "outputs": [
    {
     "name": "stderr",
     "output_type": "stream",
     "text": [
      "/home/shimaa/.local/lib/python3.8/site-packages/statsmodels/tsa/tsatools.py:142: FutureWarning: In a future version of pandas all arguments of concat except for the argument 'objs' will be keyword-only\n",
      "  x = pd.concat(x[::order], 1)\n"
     ]
    }
   ],
   "source": [
    "Y = data.price\n",
    "X = data.area\n",
    "X = sm.add_constant(X)\n",
    "\n",
    "model = sm.OLS(Y,X)"
   ]
  },
  {
   "cell_type": "code",
   "execution_count": 29,
   "id": "capable-turner",
   "metadata": {},
   "outputs": [
    {
     "name": "stderr",
     "output_type": "stream",
     "text": [
      "/home/shimaa/.local/lib/python3.8/site-packages/statsmodels/stats/stattools.py:74: ValueWarning: omni_normtest is not valid with less than 8 observations; 5 samples were given.\n",
      "  warn(\"omni_normtest is not valid with less than 8 observations; %i \"\n"
     ]
    },
    {
     "data": {
      "text/html": [
       "<table class=\"simpletable\">\n",
       "<caption>OLS Regression Results</caption>\n",
       "<tr>\n",
       "  <th>Dep. Variable:</th>          <td>price</td>      <th>  R-squared:         </th> <td>   0.958</td>\n",
       "</tr>\n",
       "<tr>\n",
       "  <th>Model:</th>                   <td>OLS</td>       <th>  Adj. R-squared:    </th> <td>   0.945</td>\n",
       "</tr>\n",
       "<tr>\n",
       "  <th>Method:</th>             <td>Least Squares</td>  <th>  F-statistic:       </th> <td>   69.17</td>\n",
       "</tr>\n",
       "<tr>\n",
       "  <th>Date:</th>             <td>Thu, 19 Aug 2021</td> <th>  Prob (F-statistic):</th>  <td>0.00364</td>\n",
       "</tr>\n",
       "<tr>\n",
       "  <th>Time:</th>                 <td>01:16:50</td>     <th>  Log-Likelihood:    </th> <td> -54.709</td>\n",
       "</tr>\n",
       "<tr>\n",
       "  <th>No. Observations:</th>      <td>     5</td>      <th>  AIC:               </th> <td>   113.4</td>\n",
       "</tr>\n",
       "<tr>\n",
       "  <th>Df Residuals:</th>          <td>     3</td>      <th>  BIC:               </th> <td>   112.6</td>\n",
       "</tr>\n",
       "<tr>\n",
       "  <th>Df Model:</th>              <td>     1</td>      <th>                     </th>     <td> </td>   \n",
       "</tr>\n",
       "<tr>\n",
       "  <th>Covariance Type:</th>      <td>nonrobust</td>    <th>                     </th>     <td> </td>   \n",
       "</tr>\n",
       "</table>\n",
       "<table class=\"simpletable\">\n",
       "<tr>\n",
       "    <td></td>       <th>coef</th>     <th>std err</th>      <th>t</th>      <th>P>|t|</th>  <th>[0.025</th>    <th>0.975]</th>  \n",
       "</tr>\n",
       "<tr>\n",
       "  <th>const</th> <td> 1.806e+05</td> <td> 5.41e+04</td> <td>    3.337</td> <td> 0.044</td> <td> 8346.956</td> <td> 3.53e+05</td>\n",
       "</tr>\n",
       "<tr>\n",
       "  <th>area</th>  <td>  135.7877</td> <td>   16.327</td> <td>    8.317</td> <td> 0.004</td> <td>   83.828</td> <td>  187.748</td>\n",
       "</tr>\n",
       "</table>\n",
       "<table class=\"simpletable\">\n",
       "<tr>\n",
       "  <th>Omnibus:</th>       <td>   nan</td> <th>  Durbin-Watson:     </th> <td>   2.352</td>\n",
       "</tr>\n",
       "<tr>\n",
       "  <th>Prob(Omnibus):</th> <td>   nan</td> <th>  Jarque-Bera (JB):  </th> <td>   0.408</td>\n",
       "</tr>\n",
       "<tr>\n",
       "  <th>Skew:</th>          <td>-0.528</td> <th>  Prob(JB):          </th> <td>   0.816</td>\n",
       "</tr>\n",
       "<tr>\n",
       "  <th>Kurtosis:</th>      <td> 2.081</td> <th>  Cond. No.          </th> <td>2.27e+04</td>\n",
       "</tr>\n",
       "</table><br/><br/>Notes:<br/>[1] Standard Errors assume that the covariance matrix of the errors is correctly specified.<br/>[2] The condition number is large, 2.27e+04. This might indicate that there are<br/>strong multicollinearity or other numerical problems."
      ],
      "text/plain": [
       "<class 'statsmodels.iolib.summary.Summary'>\n",
       "\"\"\"\n",
       "                            OLS Regression Results                            \n",
       "==============================================================================\n",
       "Dep. Variable:                  price   R-squared:                       0.958\n",
       "Model:                            OLS   Adj. R-squared:                  0.945\n",
       "Method:                 Least Squares   F-statistic:                     69.17\n",
       "Date:                Thu, 19 Aug 2021   Prob (F-statistic):            0.00364\n",
       "Time:                        01:16:50   Log-Likelihood:                -54.709\n",
       "No. Observations:                   5   AIC:                             113.4\n",
       "Df Residuals:                       3   BIC:                             112.6\n",
       "Df Model:                           1                                         \n",
       "Covariance Type:            nonrobust                                         \n",
       "==============================================================================\n",
       "                 coef    std err          t      P>|t|      [0.025      0.975]\n",
       "------------------------------------------------------------------------------\n",
       "const       1.806e+05   5.41e+04      3.337      0.044    8346.956    3.53e+05\n",
       "area         135.7877     16.327      8.317      0.004      83.828     187.748\n",
       "==============================================================================\n",
       "Omnibus:                          nan   Durbin-Watson:                   2.352\n",
       "Prob(Omnibus):                    nan   Jarque-Bera (JB):                0.408\n",
       "Skew:                          -0.528   Prob(JB):                        0.816\n",
       "Kurtosis:                       2.081   Cond. No.                     2.27e+04\n",
       "==============================================================================\n",
       "\n",
       "Notes:\n",
       "[1] Standard Errors assume that the covariance matrix of the errors is correctly specified.\n",
       "[2] The condition number is large, 2.27e+04. This might indicate that there are\n",
       "strong multicollinearity or other numerical problems.\n",
       "\"\"\""
      ]
     },
     "execution_count": 29,
     "metadata": {},
     "output_type": "execute_result"
    }
   ],
   "source": [
    "results = model.fit()\n",
    "results.summary()"
   ]
  },
  {
   "cell_type": "code",
   "execution_count": null,
   "id": "detailed-nurse",
   "metadata": {},
   "outputs": [],
   "source": []
  }
 ],
 "metadata": {
  "kernelspec": {
   "display_name": "Python 3",
   "language": "python",
   "name": "python3"
  },
  "language_info": {
   "codemirror_mode": {
    "name": "ipython",
    "version": 3
   },
   "file_extension": ".py",
   "mimetype": "text/x-python",
   "name": "python",
   "nbconvert_exporter": "python",
   "pygments_lexer": "ipython3",
   "version": "3.8.10"
  }
 },
 "nbformat": 4,
 "nbformat_minor": 5
}
