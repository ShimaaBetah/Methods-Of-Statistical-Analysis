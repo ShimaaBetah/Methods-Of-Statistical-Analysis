{
 "cells": [
  {
   "cell_type": "code",
   "execution_count": 299,
   "id": "blind-burner",
   "metadata": {},
   "outputs": [],
   "source": [
    "import pandas as pd\n",
    "import numpy as np\n",
    "from sklearn.metrics import r2_score\n",
    "from sklearn import linear_model\n",
    "from sklearn.datasets import load_boston\n",
    "import matplotlib.pyplot as plt\n",
    "import statsmodels.api as sm\n",
    "from sklearn import preprocessing \n",
    "from sklearn.metrics import mean_absolute_error\n",
    "from sklearn.metrics import mean_squared_error\n",
    "from sklearn.model_selection import train_test_split\n",
    "from sklearn.model_selection import KFold\n",
    "from sklearn.model_selection import cross_val_score\n",
    "import sys\n",
    "import itertools"
   ]
  },
  {
   "cell_type": "code",
   "execution_count": 300,
   "id": "fifteen-consultation",
   "metadata": {},
   "outputs": [],
   "source": [
    "#import data set\n",
    "data = load_boston()"
   ]
  },
  {
   "cell_type": "code",
   "execution_count": 301,
   "id": "equal-israel",
   "metadata": {},
   "outputs": [],
   "source": [
    "boston_data = pd.DataFrame(data.data)\n"
   ]
  },
  {
   "cell_type": "code",
   "execution_count": 302,
   "id": "lovely-hearts",
   "metadata": {},
   "outputs": [
    {
     "data": {
      "text/html": [
       "<div>\n",
       "<style scoped>\n",
       "    .dataframe tbody tr th:only-of-type {\n",
       "        vertical-align: middle;\n",
       "    }\n",
       "\n",
       "    .dataframe tbody tr th {\n",
       "        vertical-align: top;\n",
       "    }\n",
       "\n",
       "    .dataframe thead th {\n",
       "        text-align: right;\n",
       "    }\n",
       "</style>\n",
       "<table border=\"1\" class=\"dataframe\">\n",
       "  <thead>\n",
       "    <tr style=\"text-align: right;\">\n",
       "      <th></th>\n",
       "      <th>0</th>\n",
       "      <th>1</th>\n",
       "      <th>2</th>\n",
       "      <th>3</th>\n",
       "      <th>4</th>\n",
       "      <th>5</th>\n",
       "      <th>6</th>\n",
       "      <th>7</th>\n",
       "      <th>8</th>\n",
       "      <th>9</th>\n",
       "      <th>10</th>\n",
       "      <th>11</th>\n",
       "      <th>12</th>\n",
       "    </tr>\n",
       "  </thead>\n",
       "  <tbody>\n",
       "    <tr>\n",
       "      <th>count</th>\n",
       "      <td>506.000000</td>\n",
       "      <td>506.000000</td>\n",
       "      <td>506.000000</td>\n",
       "      <td>506.000000</td>\n",
       "      <td>506.000000</td>\n",
       "      <td>506.000000</td>\n",
       "      <td>506.000000</td>\n",
       "      <td>506.000000</td>\n",
       "      <td>506.000000</td>\n",
       "      <td>506.000000</td>\n",
       "      <td>506.000000</td>\n",
       "      <td>506.000000</td>\n",
       "      <td>506.000000</td>\n",
       "    </tr>\n",
       "    <tr>\n",
       "      <th>mean</th>\n",
       "      <td>3.613524</td>\n",
       "      <td>11.363636</td>\n",
       "      <td>11.136779</td>\n",
       "      <td>0.069170</td>\n",
       "      <td>0.554695</td>\n",
       "      <td>6.284634</td>\n",
       "      <td>68.574901</td>\n",
       "      <td>3.795043</td>\n",
       "      <td>9.549407</td>\n",
       "      <td>408.237154</td>\n",
       "      <td>18.455534</td>\n",
       "      <td>356.674032</td>\n",
       "      <td>12.653063</td>\n",
       "    </tr>\n",
       "    <tr>\n",
       "      <th>std</th>\n",
       "      <td>8.601545</td>\n",
       "      <td>23.322453</td>\n",
       "      <td>6.860353</td>\n",
       "      <td>0.253994</td>\n",
       "      <td>0.115878</td>\n",
       "      <td>0.702617</td>\n",
       "      <td>28.148861</td>\n",
       "      <td>2.105710</td>\n",
       "      <td>8.707259</td>\n",
       "      <td>168.537116</td>\n",
       "      <td>2.164946</td>\n",
       "      <td>91.294864</td>\n",
       "      <td>7.141062</td>\n",
       "    </tr>\n",
       "    <tr>\n",
       "      <th>min</th>\n",
       "      <td>0.006320</td>\n",
       "      <td>0.000000</td>\n",
       "      <td>0.460000</td>\n",
       "      <td>0.000000</td>\n",
       "      <td>0.385000</td>\n",
       "      <td>3.561000</td>\n",
       "      <td>2.900000</td>\n",
       "      <td>1.129600</td>\n",
       "      <td>1.000000</td>\n",
       "      <td>187.000000</td>\n",
       "      <td>12.600000</td>\n",
       "      <td>0.320000</td>\n",
       "      <td>1.730000</td>\n",
       "    </tr>\n",
       "    <tr>\n",
       "      <th>25%</th>\n",
       "      <td>0.082045</td>\n",
       "      <td>0.000000</td>\n",
       "      <td>5.190000</td>\n",
       "      <td>0.000000</td>\n",
       "      <td>0.449000</td>\n",
       "      <td>5.885500</td>\n",
       "      <td>45.025000</td>\n",
       "      <td>2.100175</td>\n",
       "      <td>4.000000</td>\n",
       "      <td>279.000000</td>\n",
       "      <td>17.400000</td>\n",
       "      <td>375.377500</td>\n",
       "      <td>6.950000</td>\n",
       "    </tr>\n",
       "    <tr>\n",
       "      <th>50%</th>\n",
       "      <td>0.256510</td>\n",
       "      <td>0.000000</td>\n",
       "      <td>9.690000</td>\n",
       "      <td>0.000000</td>\n",
       "      <td>0.538000</td>\n",
       "      <td>6.208500</td>\n",
       "      <td>77.500000</td>\n",
       "      <td>3.207450</td>\n",
       "      <td>5.000000</td>\n",
       "      <td>330.000000</td>\n",
       "      <td>19.050000</td>\n",
       "      <td>391.440000</td>\n",
       "      <td>11.360000</td>\n",
       "    </tr>\n",
       "    <tr>\n",
       "      <th>75%</th>\n",
       "      <td>3.677083</td>\n",
       "      <td>12.500000</td>\n",
       "      <td>18.100000</td>\n",
       "      <td>0.000000</td>\n",
       "      <td>0.624000</td>\n",
       "      <td>6.623500</td>\n",
       "      <td>94.075000</td>\n",
       "      <td>5.188425</td>\n",
       "      <td>24.000000</td>\n",
       "      <td>666.000000</td>\n",
       "      <td>20.200000</td>\n",
       "      <td>396.225000</td>\n",
       "      <td>16.955000</td>\n",
       "    </tr>\n",
       "    <tr>\n",
       "      <th>max</th>\n",
       "      <td>88.976200</td>\n",
       "      <td>100.000000</td>\n",
       "      <td>27.740000</td>\n",
       "      <td>1.000000</td>\n",
       "      <td>0.871000</td>\n",
       "      <td>8.780000</td>\n",
       "      <td>100.000000</td>\n",
       "      <td>12.126500</td>\n",
       "      <td>24.000000</td>\n",
       "      <td>711.000000</td>\n",
       "      <td>22.000000</td>\n",
       "      <td>396.900000</td>\n",
       "      <td>37.970000</td>\n",
       "    </tr>\n",
       "  </tbody>\n",
       "</table>\n",
       "</div>"
      ],
      "text/plain": [
       "               0           1           2           3           4           5   \\\n",
       "count  506.000000  506.000000  506.000000  506.000000  506.000000  506.000000   \n",
       "mean     3.613524   11.363636   11.136779    0.069170    0.554695    6.284634   \n",
       "std      8.601545   23.322453    6.860353    0.253994    0.115878    0.702617   \n",
       "min      0.006320    0.000000    0.460000    0.000000    0.385000    3.561000   \n",
       "25%      0.082045    0.000000    5.190000    0.000000    0.449000    5.885500   \n",
       "50%      0.256510    0.000000    9.690000    0.000000    0.538000    6.208500   \n",
       "75%      3.677083   12.500000   18.100000    0.000000    0.624000    6.623500   \n",
       "max     88.976200  100.000000   27.740000    1.000000    0.871000    8.780000   \n",
       "\n",
       "               6           7           8           9           10          11  \\\n",
       "count  506.000000  506.000000  506.000000  506.000000  506.000000  506.000000   \n",
       "mean    68.574901    3.795043    9.549407  408.237154   18.455534  356.674032   \n",
       "std     28.148861    2.105710    8.707259  168.537116    2.164946   91.294864   \n",
       "min      2.900000    1.129600    1.000000  187.000000   12.600000    0.320000   \n",
       "25%     45.025000    2.100175    4.000000  279.000000   17.400000  375.377500   \n",
       "50%     77.500000    3.207450    5.000000  330.000000   19.050000  391.440000   \n",
       "75%     94.075000    5.188425   24.000000  666.000000   20.200000  396.225000   \n",
       "max    100.000000   12.126500   24.000000  711.000000   22.000000  396.900000   \n",
       "\n",
       "               12  \n",
       "count  506.000000  \n",
       "mean    12.653063  \n",
       "std      7.141062  \n",
       "min      1.730000  \n",
       "25%      6.950000  \n",
       "50%     11.360000  \n",
       "75%     16.955000  \n",
       "max     37.970000  "
      ]
     },
     "execution_count": 302,
     "metadata": {},
     "output_type": "execute_result"
    }
   ],
   "source": [
    "boston_data.describe() # no missing values"
   ]
  },
  {
   "cell_type": "code",
   "execution_count": 303,
   "id": "moral-ridge",
   "metadata": {},
   "outputs": [
    {
     "data": {
      "text/html": [
       "<div>\n",
       "<style scoped>\n",
       "    .dataframe tbody tr th:only-of-type {\n",
       "        vertical-align: middle;\n",
       "    }\n",
       "\n",
       "    .dataframe tbody tr th {\n",
       "        vertical-align: top;\n",
       "    }\n",
       "\n",
       "    .dataframe thead th {\n",
       "        text-align: right;\n",
       "    }\n",
       "</style>\n",
       "<table border=\"1\" class=\"dataframe\">\n",
       "  <thead>\n",
       "    <tr style=\"text-align: right;\">\n",
       "      <th></th>\n",
       "      <th>CRIM</th>\n",
       "      <th>ZN</th>\n",
       "      <th>INDUS</th>\n",
       "      <th>CHAS</th>\n",
       "      <th>NOX</th>\n",
       "      <th>RM</th>\n",
       "      <th>AGE</th>\n",
       "      <th>DIS</th>\n",
       "      <th>RAD</th>\n",
       "      <th>TAX</th>\n",
       "      <th>PTRATIO</th>\n",
       "      <th>B</th>\n",
       "      <th>LSTAT</th>\n",
       "    </tr>\n",
       "  </thead>\n",
       "  <tbody>\n",
       "    <tr>\n",
       "      <th>0</th>\n",
       "      <td>0.00632</td>\n",
       "      <td>18.0</td>\n",
       "      <td>2.31</td>\n",
       "      <td>0.0</td>\n",
       "      <td>0.538</td>\n",
       "      <td>6.575</td>\n",
       "      <td>65.2</td>\n",
       "      <td>4.0900</td>\n",
       "      <td>1.0</td>\n",
       "      <td>296.0</td>\n",
       "      <td>15.3</td>\n",
       "      <td>396.90</td>\n",
       "      <td>4.98</td>\n",
       "    </tr>\n",
       "    <tr>\n",
       "      <th>1</th>\n",
       "      <td>0.02731</td>\n",
       "      <td>0.0</td>\n",
       "      <td>7.07</td>\n",
       "      <td>0.0</td>\n",
       "      <td>0.469</td>\n",
       "      <td>6.421</td>\n",
       "      <td>78.9</td>\n",
       "      <td>4.9671</td>\n",
       "      <td>2.0</td>\n",
       "      <td>242.0</td>\n",
       "      <td>17.8</td>\n",
       "      <td>396.90</td>\n",
       "      <td>9.14</td>\n",
       "    </tr>\n",
       "    <tr>\n",
       "      <th>2</th>\n",
       "      <td>0.02729</td>\n",
       "      <td>0.0</td>\n",
       "      <td>7.07</td>\n",
       "      <td>0.0</td>\n",
       "      <td>0.469</td>\n",
       "      <td>7.185</td>\n",
       "      <td>61.1</td>\n",
       "      <td>4.9671</td>\n",
       "      <td>2.0</td>\n",
       "      <td>242.0</td>\n",
       "      <td>17.8</td>\n",
       "      <td>392.83</td>\n",
       "      <td>4.03</td>\n",
       "    </tr>\n",
       "    <tr>\n",
       "      <th>3</th>\n",
       "      <td>0.03237</td>\n",
       "      <td>0.0</td>\n",
       "      <td>2.18</td>\n",
       "      <td>0.0</td>\n",
       "      <td>0.458</td>\n",
       "      <td>6.998</td>\n",
       "      <td>45.8</td>\n",
       "      <td>6.0622</td>\n",
       "      <td>3.0</td>\n",
       "      <td>222.0</td>\n",
       "      <td>18.7</td>\n",
       "      <td>394.63</td>\n",
       "      <td>2.94</td>\n",
       "    </tr>\n",
       "    <tr>\n",
       "      <th>4</th>\n",
       "      <td>0.06905</td>\n",
       "      <td>0.0</td>\n",
       "      <td>2.18</td>\n",
       "      <td>0.0</td>\n",
       "      <td>0.458</td>\n",
       "      <td>7.147</td>\n",
       "      <td>54.2</td>\n",
       "      <td>6.0622</td>\n",
       "      <td>3.0</td>\n",
       "      <td>222.0</td>\n",
       "      <td>18.7</td>\n",
       "      <td>396.90</td>\n",
       "      <td>5.33</td>\n",
       "    </tr>\n",
       "    <tr>\n",
       "      <th>...</th>\n",
       "      <td>...</td>\n",
       "      <td>...</td>\n",
       "      <td>...</td>\n",
       "      <td>...</td>\n",
       "      <td>...</td>\n",
       "      <td>...</td>\n",
       "      <td>...</td>\n",
       "      <td>...</td>\n",
       "      <td>...</td>\n",
       "      <td>...</td>\n",
       "      <td>...</td>\n",
       "      <td>...</td>\n",
       "      <td>...</td>\n",
       "    </tr>\n",
       "    <tr>\n",
       "      <th>501</th>\n",
       "      <td>0.06263</td>\n",
       "      <td>0.0</td>\n",
       "      <td>11.93</td>\n",
       "      <td>0.0</td>\n",
       "      <td>0.573</td>\n",
       "      <td>6.593</td>\n",
       "      <td>69.1</td>\n",
       "      <td>2.4786</td>\n",
       "      <td>1.0</td>\n",
       "      <td>273.0</td>\n",
       "      <td>21.0</td>\n",
       "      <td>391.99</td>\n",
       "      <td>9.67</td>\n",
       "    </tr>\n",
       "    <tr>\n",
       "      <th>502</th>\n",
       "      <td>0.04527</td>\n",
       "      <td>0.0</td>\n",
       "      <td>11.93</td>\n",
       "      <td>0.0</td>\n",
       "      <td>0.573</td>\n",
       "      <td>6.120</td>\n",
       "      <td>76.7</td>\n",
       "      <td>2.2875</td>\n",
       "      <td>1.0</td>\n",
       "      <td>273.0</td>\n",
       "      <td>21.0</td>\n",
       "      <td>396.90</td>\n",
       "      <td>9.08</td>\n",
       "    </tr>\n",
       "    <tr>\n",
       "      <th>503</th>\n",
       "      <td>0.06076</td>\n",
       "      <td>0.0</td>\n",
       "      <td>11.93</td>\n",
       "      <td>0.0</td>\n",
       "      <td>0.573</td>\n",
       "      <td>6.976</td>\n",
       "      <td>91.0</td>\n",
       "      <td>2.1675</td>\n",
       "      <td>1.0</td>\n",
       "      <td>273.0</td>\n",
       "      <td>21.0</td>\n",
       "      <td>396.90</td>\n",
       "      <td>5.64</td>\n",
       "    </tr>\n",
       "    <tr>\n",
       "      <th>504</th>\n",
       "      <td>0.10959</td>\n",
       "      <td>0.0</td>\n",
       "      <td>11.93</td>\n",
       "      <td>0.0</td>\n",
       "      <td>0.573</td>\n",
       "      <td>6.794</td>\n",
       "      <td>89.3</td>\n",
       "      <td>2.3889</td>\n",
       "      <td>1.0</td>\n",
       "      <td>273.0</td>\n",
       "      <td>21.0</td>\n",
       "      <td>393.45</td>\n",
       "      <td>6.48</td>\n",
       "    </tr>\n",
       "    <tr>\n",
       "      <th>505</th>\n",
       "      <td>0.04741</td>\n",
       "      <td>0.0</td>\n",
       "      <td>11.93</td>\n",
       "      <td>0.0</td>\n",
       "      <td>0.573</td>\n",
       "      <td>6.030</td>\n",
       "      <td>80.8</td>\n",
       "      <td>2.5050</td>\n",
       "      <td>1.0</td>\n",
       "      <td>273.0</td>\n",
       "      <td>21.0</td>\n",
       "      <td>396.90</td>\n",
       "      <td>7.88</td>\n",
       "    </tr>\n",
       "  </tbody>\n",
       "</table>\n",
       "<p>506 rows × 13 columns</p>\n",
       "</div>"
      ],
      "text/plain": [
       "        CRIM    ZN  INDUS  CHAS    NOX     RM   AGE     DIS  RAD    TAX  \\\n",
       "0    0.00632  18.0   2.31   0.0  0.538  6.575  65.2  4.0900  1.0  296.0   \n",
       "1    0.02731   0.0   7.07   0.0  0.469  6.421  78.9  4.9671  2.0  242.0   \n",
       "2    0.02729   0.0   7.07   0.0  0.469  7.185  61.1  4.9671  2.0  242.0   \n",
       "3    0.03237   0.0   2.18   0.0  0.458  6.998  45.8  6.0622  3.0  222.0   \n",
       "4    0.06905   0.0   2.18   0.0  0.458  7.147  54.2  6.0622  3.0  222.0   \n",
       "..       ...   ...    ...   ...    ...    ...   ...     ...  ...    ...   \n",
       "501  0.06263   0.0  11.93   0.0  0.573  6.593  69.1  2.4786  1.0  273.0   \n",
       "502  0.04527   0.0  11.93   0.0  0.573  6.120  76.7  2.2875  1.0  273.0   \n",
       "503  0.06076   0.0  11.93   0.0  0.573  6.976  91.0  2.1675  1.0  273.0   \n",
       "504  0.10959   0.0  11.93   0.0  0.573  6.794  89.3  2.3889  1.0  273.0   \n",
       "505  0.04741   0.0  11.93   0.0  0.573  6.030  80.8  2.5050  1.0  273.0   \n",
       "\n",
       "     PTRATIO       B  LSTAT  \n",
       "0       15.3  396.90   4.98  \n",
       "1       17.8  396.90   9.14  \n",
       "2       17.8  392.83   4.03  \n",
       "3       18.7  394.63   2.94  \n",
       "4       18.7  396.90   5.33  \n",
       "..       ...     ...    ...  \n",
       "501     21.0  391.99   9.67  \n",
       "502     21.0  396.90   9.08  \n",
       "503     21.0  396.90   5.64  \n",
       "504     21.0  393.45   6.48  \n",
       "505     21.0  396.90   7.88  \n",
       "\n",
       "[506 rows x 13 columns]"
      ]
     },
     "execution_count": 303,
     "metadata": {},
     "output_type": "execute_result"
    }
   ],
   "source": [
    "boston_data.columns = data.feature_names\n",
    "boston_data"
   ]
  },
  {
   "cell_type": "code",
   "execution_count": 304,
   "id": "settled-airline",
   "metadata": {},
   "outputs": [
    {
     "data": {
      "text/html": [
       "<div>\n",
       "<style scoped>\n",
       "    .dataframe tbody tr th:only-of-type {\n",
       "        vertical-align: middle;\n",
       "    }\n",
       "\n",
       "    .dataframe tbody tr th {\n",
       "        vertical-align: top;\n",
       "    }\n",
       "\n",
       "    .dataframe thead th {\n",
       "        text-align: right;\n",
       "    }\n",
       "</style>\n",
       "<table border=\"1\" class=\"dataframe\">\n",
       "  <thead>\n",
       "    <tr style=\"text-align: right;\">\n",
       "      <th></th>\n",
       "      <th>CRIM</th>\n",
       "      <th>ZN</th>\n",
       "      <th>INDUS</th>\n",
       "      <th>CHAS</th>\n",
       "      <th>NOX</th>\n",
       "      <th>RM</th>\n",
       "      <th>AGE</th>\n",
       "      <th>DIS</th>\n",
       "      <th>RAD</th>\n",
       "      <th>TAX</th>\n",
       "      <th>PTRATIO</th>\n",
       "      <th>B</th>\n",
       "      <th>LSTAT</th>\n",
       "      <th>price</th>\n",
       "    </tr>\n",
       "  </thead>\n",
       "  <tbody>\n",
       "    <tr>\n",
       "      <th>0</th>\n",
       "      <td>0.00632</td>\n",
       "      <td>18.0</td>\n",
       "      <td>2.31</td>\n",
       "      <td>0.0</td>\n",
       "      <td>0.538</td>\n",
       "      <td>6.575</td>\n",
       "      <td>65.2</td>\n",
       "      <td>4.0900</td>\n",
       "      <td>1.0</td>\n",
       "      <td>296.0</td>\n",
       "      <td>15.3</td>\n",
       "      <td>396.90</td>\n",
       "      <td>4.98</td>\n",
       "      <td>24.0</td>\n",
       "    </tr>\n",
       "    <tr>\n",
       "      <th>1</th>\n",
       "      <td>0.02731</td>\n",
       "      <td>0.0</td>\n",
       "      <td>7.07</td>\n",
       "      <td>0.0</td>\n",
       "      <td>0.469</td>\n",
       "      <td>6.421</td>\n",
       "      <td>78.9</td>\n",
       "      <td>4.9671</td>\n",
       "      <td>2.0</td>\n",
       "      <td>242.0</td>\n",
       "      <td>17.8</td>\n",
       "      <td>396.90</td>\n",
       "      <td>9.14</td>\n",
       "      <td>21.6</td>\n",
       "    </tr>\n",
       "    <tr>\n",
       "      <th>2</th>\n",
       "      <td>0.02729</td>\n",
       "      <td>0.0</td>\n",
       "      <td>7.07</td>\n",
       "      <td>0.0</td>\n",
       "      <td>0.469</td>\n",
       "      <td>7.185</td>\n",
       "      <td>61.1</td>\n",
       "      <td>4.9671</td>\n",
       "      <td>2.0</td>\n",
       "      <td>242.0</td>\n",
       "      <td>17.8</td>\n",
       "      <td>392.83</td>\n",
       "      <td>4.03</td>\n",
       "      <td>34.7</td>\n",
       "    </tr>\n",
       "    <tr>\n",
       "      <th>3</th>\n",
       "      <td>0.03237</td>\n",
       "      <td>0.0</td>\n",
       "      <td>2.18</td>\n",
       "      <td>0.0</td>\n",
       "      <td>0.458</td>\n",
       "      <td>6.998</td>\n",
       "      <td>45.8</td>\n",
       "      <td>6.0622</td>\n",
       "      <td>3.0</td>\n",
       "      <td>222.0</td>\n",
       "      <td>18.7</td>\n",
       "      <td>394.63</td>\n",
       "      <td>2.94</td>\n",
       "      <td>33.4</td>\n",
       "    </tr>\n",
       "    <tr>\n",
       "      <th>4</th>\n",
       "      <td>0.06905</td>\n",
       "      <td>0.0</td>\n",
       "      <td>2.18</td>\n",
       "      <td>0.0</td>\n",
       "      <td>0.458</td>\n",
       "      <td>7.147</td>\n",
       "      <td>54.2</td>\n",
       "      <td>6.0622</td>\n",
       "      <td>3.0</td>\n",
       "      <td>222.0</td>\n",
       "      <td>18.7</td>\n",
       "      <td>396.90</td>\n",
       "      <td>5.33</td>\n",
       "      <td>36.2</td>\n",
       "    </tr>\n",
       "    <tr>\n",
       "      <th>...</th>\n",
       "      <td>...</td>\n",
       "      <td>...</td>\n",
       "      <td>...</td>\n",
       "      <td>...</td>\n",
       "      <td>...</td>\n",
       "      <td>...</td>\n",
       "      <td>...</td>\n",
       "      <td>...</td>\n",
       "      <td>...</td>\n",
       "      <td>...</td>\n",
       "      <td>...</td>\n",
       "      <td>...</td>\n",
       "      <td>...</td>\n",
       "      <td>...</td>\n",
       "    </tr>\n",
       "    <tr>\n",
       "      <th>501</th>\n",
       "      <td>0.06263</td>\n",
       "      <td>0.0</td>\n",
       "      <td>11.93</td>\n",
       "      <td>0.0</td>\n",
       "      <td>0.573</td>\n",
       "      <td>6.593</td>\n",
       "      <td>69.1</td>\n",
       "      <td>2.4786</td>\n",
       "      <td>1.0</td>\n",
       "      <td>273.0</td>\n",
       "      <td>21.0</td>\n",
       "      <td>391.99</td>\n",
       "      <td>9.67</td>\n",
       "      <td>22.4</td>\n",
       "    </tr>\n",
       "    <tr>\n",
       "      <th>502</th>\n",
       "      <td>0.04527</td>\n",
       "      <td>0.0</td>\n",
       "      <td>11.93</td>\n",
       "      <td>0.0</td>\n",
       "      <td>0.573</td>\n",
       "      <td>6.120</td>\n",
       "      <td>76.7</td>\n",
       "      <td>2.2875</td>\n",
       "      <td>1.0</td>\n",
       "      <td>273.0</td>\n",
       "      <td>21.0</td>\n",
       "      <td>396.90</td>\n",
       "      <td>9.08</td>\n",
       "      <td>20.6</td>\n",
       "    </tr>\n",
       "    <tr>\n",
       "      <th>503</th>\n",
       "      <td>0.06076</td>\n",
       "      <td>0.0</td>\n",
       "      <td>11.93</td>\n",
       "      <td>0.0</td>\n",
       "      <td>0.573</td>\n",
       "      <td>6.976</td>\n",
       "      <td>91.0</td>\n",
       "      <td>2.1675</td>\n",
       "      <td>1.0</td>\n",
       "      <td>273.0</td>\n",
       "      <td>21.0</td>\n",
       "      <td>396.90</td>\n",
       "      <td>5.64</td>\n",
       "      <td>23.9</td>\n",
       "    </tr>\n",
       "    <tr>\n",
       "      <th>504</th>\n",
       "      <td>0.10959</td>\n",
       "      <td>0.0</td>\n",
       "      <td>11.93</td>\n",
       "      <td>0.0</td>\n",
       "      <td>0.573</td>\n",
       "      <td>6.794</td>\n",
       "      <td>89.3</td>\n",
       "      <td>2.3889</td>\n",
       "      <td>1.0</td>\n",
       "      <td>273.0</td>\n",
       "      <td>21.0</td>\n",
       "      <td>393.45</td>\n",
       "      <td>6.48</td>\n",
       "      <td>22.0</td>\n",
       "    </tr>\n",
       "    <tr>\n",
       "      <th>505</th>\n",
       "      <td>0.04741</td>\n",
       "      <td>0.0</td>\n",
       "      <td>11.93</td>\n",
       "      <td>0.0</td>\n",
       "      <td>0.573</td>\n",
       "      <td>6.030</td>\n",
       "      <td>80.8</td>\n",
       "      <td>2.5050</td>\n",
       "      <td>1.0</td>\n",
       "      <td>273.0</td>\n",
       "      <td>21.0</td>\n",
       "      <td>396.90</td>\n",
       "      <td>7.88</td>\n",
       "      <td>11.9</td>\n",
       "    </tr>\n",
       "  </tbody>\n",
       "</table>\n",
       "<p>506 rows × 14 columns</p>\n",
       "</div>"
      ],
      "text/plain": [
       "        CRIM    ZN  INDUS  CHAS    NOX     RM   AGE     DIS  RAD    TAX  \\\n",
       "0    0.00632  18.0   2.31   0.0  0.538  6.575  65.2  4.0900  1.0  296.0   \n",
       "1    0.02731   0.0   7.07   0.0  0.469  6.421  78.9  4.9671  2.0  242.0   \n",
       "2    0.02729   0.0   7.07   0.0  0.469  7.185  61.1  4.9671  2.0  242.0   \n",
       "3    0.03237   0.0   2.18   0.0  0.458  6.998  45.8  6.0622  3.0  222.0   \n",
       "4    0.06905   0.0   2.18   0.0  0.458  7.147  54.2  6.0622  3.0  222.0   \n",
       "..       ...   ...    ...   ...    ...    ...   ...     ...  ...    ...   \n",
       "501  0.06263   0.0  11.93   0.0  0.573  6.593  69.1  2.4786  1.0  273.0   \n",
       "502  0.04527   0.0  11.93   0.0  0.573  6.120  76.7  2.2875  1.0  273.0   \n",
       "503  0.06076   0.0  11.93   0.0  0.573  6.976  91.0  2.1675  1.0  273.0   \n",
       "504  0.10959   0.0  11.93   0.0  0.573  6.794  89.3  2.3889  1.0  273.0   \n",
       "505  0.04741   0.0  11.93   0.0  0.573  6.030  80.8  2.5050  1.0  273.0   \n",
       "\n",
       "     PTRATIO       B  LSTAT  price  \n",
       "0       15.3  396.90   4.98   24.0  \n",
       "1       17.8  396.90   9.14   21.6  \n",
       "2       17.8  392.83   4.03   34.7  \n",
       "3       18.7  394.63   2.94   33.4  \n",
       "4       18.7  396.90   5.33   36.2  \n",
       "..       ...     ...    ...    ...  \n",
       "501     21.0  391.99   9.67   22.4  \n",
       "502     21.0  396.90   9.08   20.6  \n",
       "503     21.0  396.90   5.64   23.9  \n",
       "504     21.0  393.45   6.48   22.0  \n",
       "505     21.0  396.90   7.88   11.9  \n",
       "\n",
       "[506 rows x 14 columns]"
      ]
     },
     "execution_count": 304,
     "metadata": {},
     "output_type": "execute_result"
    }
   ],
   "source": [
    "boston_data['price'] = data.target\n",
    "boston_data"
   ]
  },
  {
   "cell_type": "code",
   "execution_count": 317,
   "id": "demonstrated-disco",
   "metadata": {},
   "outputs": [
    {
     "data": {
      "text/plain": [
       "['CRIM',\n",
       " 'ZN',\n",
       " 'INDUS',\n",
       " 'CHAS',\n",
       " 'NOX',\n",
       " 'RM',\n",
       " 'AGE',\n",
       " 'DIS',\n",
       " 'RAD',\n",
       " 'TAX',\n",
       " 'PTRATIO',\n",
       " 'B',\n",
       " 'LSTAT']"
      ]
     },
     "execution_count": 317,
     "metadata": {},
     "output_type": "execute_result"
    }
   ],
   "source": [
    "reg = linear_model.LinearRegression()\n",
    "features = [col for col in boston_data.columns if not col == 'price' ]\n",
    "features"
   ]
  },
  {
   "cell_type": "code",
   "execution_count": 259,
   "id": "herbal-feeding",
   "metadata": {},
   "outputs": [
    {
     "data": {
      "text/plain": [
       "(506, 13)"
      ]
     },
     "execution_count": 259,
     "metadata": {},
     "output_type": "execute_result"
    }
   ],
   "source": [
    "X = boston_data[features].to_numpy()\n",
    "X = std_scaler.fit_transform(X)\n",
    "reg.fit(X,boston_data.price)\n",
    "np.shape(X)"
   ]
  },
  {
   "cell_type": "code",
   "execution_count": 260,
   "id": "hearing-guide",
   "metadata": {},
   "outputs": [
    {
     "data": {
      "text/plain": [
       "[22.532806324110677,\n",
       " -0.9281460643011966,\n",
       " 1.0815686278223822,\n",
       " 0.14089999690428612,\n",
       " 0.6817397247777939,\n",
       " -2.0567182660052157,\n",
       " 2.674230165239318,\n",
       " 0.01946607165704728,\n",
       " -3.104044258086441,\n",
       " 2.662217642473626,\n",
       " -2.0767816838433766,\n",
       " -2.0606066589067593,\n",
       " 0.8492684177053297,\n",
       " -3.7436271264671093]"
      ]
     },
     "execution_count": 260,
     "metadata": {},
     "output_type": "execute_result"
    }
   ],
   "source": [
    "reg_betas = []\n",
    "reg_betas.append(reg.intercept_)\n",
    "reg_betas.extend(reg.coef_)\n",
    "reg_betas\n"
   ]
  },
  {
   "cell_type": "code",
   "execution_count": 261,
   "id": "suspected-receiver",
   "metadata": {},
   "outputs": [
    {
     "data": {
      "text/plain": [
       "22.532806324110677"
      ]
     },
     "execution_count": 261,
     "metadata": {},
     "output_type": "execute_result"
    }
   ],
   "source": [
    "reg.intercept_"
   ]
  },
  {
   "cell_type": "code",
   "execution_count": 262,
   "id": "retired-rugby",
   "metadata": {},
   "outputs": [
    {
     "data": {
      "text/plain": [
       "0.7406426641094095"
      ]
     },
     "execution_count": 262,
     "metadata": {},
     "output_type": "execute_result"
    }
   ],
   "source": [
    "# get r^2 score for the model\n",
    "r2_score(boston_data.price,reg.predict(X))"
   ]
  },
  {
   "cell_type": "code",
   "execution_count": 263,
   "id": "clean-blast",
   "metadata": {},
   "outputs": [
    {
     "data": {
      "text/plain": [
       "(506, 13)"
      ]
     },
     "execution_count": 263,
     "metadata": {},
     "output_type": "execute_result"
    }
   ],
   "source": [
    "# Get a summary of the model using OLS from statsmodels\n",
    "std_scaler = preprocessing.StandardScaler()\n",
    "\n",
    "#X  = sm.add_constant(X)\n",
    "y = boston_data.price\n",
    "model = sm.OLS(y,sm.add_constant(X))\n",
    "results=model.fit()\n",
    "np.shape(X)"
   ]
  },
  {
   "cell_type": "code",
   "execution_count": 264,
   "id": "incomplete-franklin",
   "metadata": {},
   "outputs": [
    {
     "data": {
      "text/html": [
       "<table class=\"simpletable\">\n",
       "<caption>OLS Regression Results</caption>\n",
       "<tr>\n",
       "  <th>Dep. Variable:</th>          <td>price</td>      <th>  R-squared:         </th> <td>   0.741</td> \n",
       "</tr>\n",
       "<tr>\n",
       "  <th>Model:</th>                   <td>OLS</td>       <th>  Adj. R-squared:    </th> <td>   0.734</td> \n",
       "</tr>\n",
       "<tr>\n",
       "  <th>Method:</th>             <td>Least Squares</td>  <th>  F-statistic:       </th> <td>   108.1</td> \n",
       "</tr>\n",
       "<tr>\n",
       "  <th>Date:</th>             <td>Tue, 07 Sep 2021</td> <th>  Prob (F-statistic):</th> <td>6.72e-135</td>\n",
       "</tr>\n",
       "<tr>\n",
       "  <th>Time:</th>                 <td>01:50:20</td>     <th>  Log-Likelihood:    </th> <td> -1498.8</td> \n",
       "</tr>\n",
       "<tr>\n",
       "  <th>No. Observations:</th>      <td>   506</td>      <th>  AIC:               </th> <td>   3026.</td> \n",
       "</tr>\n",
       "<tr>\n",
       "  <th>Df Residuals:</th>          <td>   492</td>      <th>  BIC:               </th> <td>   3085.</td> \n",
       "</tr>\n",
       "<tr>\n",
       "  <th>Df Model:</th>              <td>    13</td>      <th>                     </th>     <td> </td>    \n",
       "</tr>\n",
       "<tr>\n",
       "  <th>Covariance Type:</th>      <td>nonrobust</td>    <th>                     </th>     <td> </td>    \n",
       "</tr>\n",
       "</table>\n",
       "<table class=\"simpletable\">\n",
       "<tr>\n",
       "    <td></td>       <th>coef</th>     <th>std err</th>      <th>t</th>      <th>P>|t|</th>  <th>[0.025</th>    <th>0.975]</th>  \n",
       "</tr>\n",
       "<tr>\n",
       "  <th>const</th> <td>   22.5328</td> <td>    0.211</td> <td>  106.814</td> <td> 0.000</td> <td>   22.118</td> <td>   22.947</td>\n",
       "</tr>\n",
       "<tr>\n",
       "  <th>x1</th>    <td>   -0.9281</td> <td>    0.282</td> <td>   -3.287</td> <td> 0.001</td> <td>   -1.483</td> <td>   -0.373</td>\n",
       "</tr>\n",
       "<tr>\n",
       "  <th>x2</th>    <td>    1.0816</td> <td>    0.320</td> <td>    3.382</td> <td> 0.001</td> <td>    0.453</td> <td>    1.710</td>\n",
       "</tr>\n",
       "<tr>\n",
       "  <th>x3</th>    <td>    0.1409</td> <td>    0.421</td> <td>    0.334</td> <td> 0.738</td> <td>   -0.687</td> <td>    0.969</td>\n",
       "</tr>\n",
       "<tr>\n",
       "  <th>x4</th>    <td>    0.6817</td> <td>    0.219</td> <td>    3.118</td> <td> 0.002</td> <td>    0.252</td> <td>    1.111</td>\n",
       "</tr>\n",
       "<tr>\n",
       "  <th>x5</th>    <td>   -2.0567</td> <td>    0.442</td> <td>   -4.651</td> <td> 0.000</td> <td>   -2.926</td> <td>   -1.188</td>\n",
       "</tr>\n",
       "<tr>\n",
       "  <th>x6</th>    <td>    2.6742</td> <td>    0.293</td> <td>    9.116</td> <td> 0.000</td> <td>    2.098</td> <td>    3.251</td>\n",
       "</tr>\n",
       "<tr>\n",
       "  <th>x7</th>    <td>    0.0195</td> <td>    0.371</td> <td>    0.052</td> <td> 0.958</td> <td>   -0.710</td> <td>    0.749</td>\n",
       "</tr>\n",
       "<tr>\n",
       "  <th>x8</th>    <td>   -3.1040</td> <td>    0.420</td> <td>   -7.398</td> <td> 0.000</td> <td>   -3.928</td> <td>   -2.280</td>\n",
       "</tr>\n",
       "<tr>\n",
       "  <th>x9</th>    <td>    2.6622</td> <td>    0.577</td> <td>    4.613</td> <td> 0.000</td> <td>    1.528</td> <td>    3.796</td>\n",
       "</tr>\n",
       "<tr>\n",
       "  <th>x10</th>   <td>   -2.0768</td> <td>    0.633</td> <td>   -3.280</td> <td> 0.001</td> <td>   -3.321</td> <td>   -0.833</td>\n",
       "</tr>\n",
       "<tr>\n",
       "  <th>x11</th>   <td>   -2.0606</td> <td>    0.283</td> <td>   -7.283</td> <td> 0.000</td> <td>   -2.617</td> <td>   -1.505</td>\n",
       "</tr>\n",
       "<tr>\n",
       "  <th>x12</th>   <td>    0.8493</td> <td>    0.245</td> <td>    3.467</td> <td> 0.001</td> <td>    0.368</td> <td>    1.331</td>\n",
       "</tr>\n",
       "<tr>\n",
       "  <th>x13</th>   <td>   -3.7436</td> <td>    0.362</td> <td>  -10.347</td> <td> 0.000</td> <td>   -4.454</td> <td>   -3.033</td>\n",
       "</tr>\n",
       "</table>\n",
       "<table class=\"simpletable\">\n",
       "<tr>\n",
       "  <th>Omnibus:</th>       <td>178.041</td> <th>  Durbin-Watson:     </th> <td>   1.078</td> \n",
       "</tr>\n",
       "<tr>\n",
       "  <th>Prob(Omnibus):</th> <td> 0.000</td>  <th>  Jarque-Bera (JB):  </th> <td> 783.126</td> \n",
       "</tr>\n",
       "<tr>\n",
       "  <th>Skew:</th>          <td> 1.521</td>  <th>  Prob(JB):          </th> <td>8.84e-171</td>\n",
       "</tr>\n",
       "<tr>\n",
       "  <th>Kurtosis:</th>      <td> 8.281</td>  <th>  Cond. No.          </th> <td>    9.82</td> \n",
       "</tr>\n",
       "</table><br/><br/>Notes:<br/>[1] Standard Errors assume that the covariance matrix of the errors is correctly specified."
      ],
      "text/plain": [
       "<class 'statsmodels.iolib.summary.Summary'>\n",
       "\"\"\"\n",
       "                            OLS Regression Results                            \n",
       "==============================================================================\n",
       "Dep. Variable:                  price   R-squared:                       0.741\n",
       "Model:                            OLS   Adj. R-squared:                  0.734\n",
       "Method:                 Least Squares   F-statistic:                     108.1\n",
       "Date:                Tue, 07 Sep 2021   Prob (F-statistic):          6.72e-135\n",
       "Time:                        01:50:20   Log-Likelihood:                -1498.8\n",
       "No. Observations:                 506   AIC:                             3026.\n",
       "Df Residuals:                     492   BIC:                             3085.\n",
       "Df Model:                          13                                         \n",
       "Covariance Type:            nonrobust                                         \n",
       "==============================================================================\n",
       "                 coef    std err          t      P>|t|      [0.025      0.975]\n",
       "------------------------------------------------------------------------------\n",
       "const         22.5328      0.211    106.814      0.000      22.118      22.947\n",
       "x1            -0.9281      0.282     -3.287      0.001      -1.483      -0.373\n",
       "x2             1.0816      0.320      3.382      0.001       0.453       1.710\n",
       "x3             0.1409      0.421      0.334      0.738      -0.687       0.969\n",
       "x4             0.6817      0.219      3.118      0.002       0.252       1.111\n",
       "x5            -2.0567      0.442     -4.651      0.000      -2.926      -1.188\n",
       "x6             2.6742      0.293      9.116      0.000       2.098       3.251\n",
       "x7             0.0195      0.371      0.052      0.958      -0.710       0.749\n",
       "x8            -3.1040      0.420     -7.398      0.000      -3.928      -2.280\n",
       "x9             2.6622      0.577      4.613      0.000       1.528       3.796\n",
       "x10           -2.0768      0.633     -3.280      0.001      -3.321      -0.833\n",
       "x11           -2.0606      0.283     -7.283      0.000      -2.617      -1.505\n",
       "x12            0.8493      0.245      3.467      0.001       0.368       1.331\n",
       "x13           -3.7436      0.362    -10.347      0.000      -4.454      -3.033\n",
       "==============================================================================\n",
       "Omnibus:                      178.041   Durbin-Watson:                   1.078\n",
       "Prob(Omnibus):                  0.000   Jarque-Bera (JB):              783.126\n",
       "Skew:                           1.521   Prob(JB):                    8.84e-171\n",
       "Kurtosis:                       8.281   Cond. No.                         9.82\n",
       "==============================================================================\n",
       "\n",
       "Notes:\n",
       "[1] Standard Errors assume that the covariance matrix of the errors is correctly specified.\n",
       "\"\"\""
      ]
     },
     "execution_count": 264,
     "metadata": {},
     "output_type": "execute_result"
    }
   ],
   "source": [
    "results.summary()"
   ]
  },
  {
   "cell_type": "markdown",
   "id": "protecting-minimum",
   "metadata": {},
   "source": [
    "## personal class representing multiple linear regression\n"
   ]
  },
  {
   "cell_type": "code",
   "execution_count": 265,
   "id": "endless-engineer",
   "metadata": {},
   "outputs": [],
   "source": [
    "class MultipleLinearRegression:\n",
    "    def __init__(self,X,y):\n",
    "        self.X = X\n",
    "        self.y = y\n",
    "        self.n = np.size(self.y)\n",
    "        self.beta = self.normalEq()\n",
    "        self.y_mean = (sum(y)/self.n)*np.ones(np.shape(self.y))\n",
    "        \n",
    "    def normalEq (self):\n",
    "        return (np.linalg.inv(self.X.T@self.X)@self.X.T@self.y)\n",
    "    def getbeta (self):\n",
    "        return self.beta\n",
    "    def predict (self,X,b):\n",
    "        return X@self.beta\n",
    "    def getSSR (self,b):\n",
    "        return (self.predict(self.X,b)-self.y_mean).T@(self.predict(self.X,b)-self.y_mean)\n",
    "    def getSST (self):\n",
    "        return (self.y-self.y_mean).T@(self.y-self.y_mean)\n",
    "    def getRSquared (self,b):\n",
    "        return self.getSSR(b)/self.getSST()\n",
    "   "
   ]
  },
  {
   "cell_type": "code",
   "execution_count": 266,
   "id": "improved-adjustment",
   "metadata": {},
   "outputs": [
    {
     "data": {
      "text/plain": [
       "(506, 13)"
      ]
     },
     "execution_count": 266,
     "metadata": {},
     "output_type": "execute_result"
    }
   ],
   "source": [
    "my_model = MultipleLinearRegression(sm.add_constant(X),y)\n",
    "np.shape(X)"
   ]
  },
  {
   "cell_type": "code",
   "execution_count": 267,
   "id": "danish-probability",
   "metadata": {},
   "outputs": [
    {
     "data": {
      "text/plain": [
       "array([ 2.25328063e+01, -9.28146064e-01,  1.08156863e+00,  1.40899997e-01,\n",
       "        6.81739725e-01, -2.05671827e+00,  2.67423017e+00,  1.94660717e-02,\n",
       "       -3.10404426e+00,  2.66221764e+00, -2.07678168e+00, -2.06060666e+00,\n",
       "        8.49268418e-01, -3.74362713e+00])"
      ]
     },
     "execution_count": 267,
     "metadata": {},
     "output_type": "execute_result"
    }
   ],
   "source": [
    "my_model.getbeta()"
   ]
  },
  {
   "cell_type": "code",
   "execution_count": 268,
   "id": "arbitrary-development",
   "metadata": {},
   "outputs": [
    {
     "data": {
      "text/plain": [
       "0.7406426641094074"
      ]
     },
     "execution_count": 268,
     "metadata": {},
     "output_type": "execute_result"
    }
   ],
   "source": [
    "my_model.getRSquared(my_model.beta)\n"
   ]
  },
  {
   "cell_type": "markdown",
   "id": "rising-gather",
   "metadata": {},
   "source": [
    "## gradient descent function"
   ]
  },
  {
   "cell_type": "code",
   "execution_count": 269,
   "id": "adequate-manitoba",
   "metadata": {},
   "outputs": [],
   "source": [
    "def gradient_descent(X,y,learning_rate=0.1,tol = 0.000000001,stop_cond = \"norm_beta\"):\n",
    "    X = sm.add_constant(X)\n",
    "    (n,p) = np.shape(X)\n",
    "    beta = np.random.uniform(-10.0, 10.0, p)\n",
    "    last_beta = beta.copy()\n",
    "    num_iteration = 0\n",
    "    \n",
    "    while(True):\n",
    "        errors = np.subtract(X.dot(beta),y)\n",
    "        grad = (X.T.dot(errors))\n",
    "        beta -= (learning_rate/n)*grad\n",
    "        num_iteration+=1\n",
    "        if stop_cond == 'norm_beta':\n",
    "            if (np.linalg.norm(last_beta-beta)<=tol):\n",
    "                break\n",
    "        if stop_cond == 'norm_grad':\n",
    "            if (np.linalg.norm(grad)<=tol):\n",
    "                break\n",
    "        if stop_cond == 'cost':\n",
    "            if (cost(X,y,last_beta)-cost(X,y,beta)<=tol):\n",
    "                break\n",
    "        last_beta= beta.copy()\n",
    "        \n",
    "    return (beta,num_iteration)    "
   ]
  },
  {
   "cell_type": "markdown",
   "id": "tutorial-taste",
   "metadata": {},
   "source": [
    "## Compare between different stopping condition"
   ]
  },
  {
   "cell_type": "code",
   "execution_count": 270,
   "id": "parliamentary-machine",
   "metadata": {},
   "outputs": [
    {
     "name": "stdout",
     "output_type": "stream",
     "text": [
      "Cost stop condition\n",
      "[ 2.25328063e+01 -9.28095335e-01  1.08147935e+00  1.40623117e-01\n",
      "  6.81779327e-01 -2.05666964e+00  2.67428050e+00  1.94234566e-02\n",
      " -3.10406413e+00  2.66151912e+00 -2.07598773e+00 -2.06058073e+00\n",
      "  8.49263523e-01 -3.74360017e+00]\n",
      "963 \n",
      "\n",
      "gradient stop condition\n",
      "[ 2.25328063e+01 -9.28146064e-01  1.08156863e+00  1.40899997e-01\n",
      "  6.81739725e-01 -2.05671827e+00  2.67423017e+00  1.94660717e-02\n",
      " -3.10404426e+00  2.66221764e+00 -2.07678168e+00 -2.06060666e+00\n",
      "  8.49268418e-01 -3.74362713e+00]\n",
      "4081 \n",
      "\n",
      "diffBeta stop condition\n",
      "[ 2.25328063e+01 -9.28146071e-01  1.08156864e+00  1.40900036e-01\n",
      "  6.81739719e-01 -2.05671827e+00  2.67423016e+00  1.94660777e-02\n",
      " -3.10404426e+00  2.66221774e+00 -2.07678180e+00 -2.06060666e+00\n",
      "  8.49268418e-01 -3.74362713e+00]\n",
      "2460 \n",
      "\n"
     ]
    }
   ],
   "source": [
    "(estimated_beta_cost,num_iteration_cost)=gradient_descent(X,y, stop_cond='cost')\n",
    "np.shape(X)\n",
    "print (\"Cost stop condition\")\n",
    "print(estimated_beta_cost)\n",
    "print(num_iteration_cost,'\\n')\n",
    "(estimated_beta_grad,num_iteration_grad)=gradient_descent(X,y, stop_cond='norm_grad')\n",
    "np.shape(X)\n",
    "print (\"gradient stop condition\")\n",
    "print(estimated_beta_grad)\n",
    "print(num_iteration_grad,'\\n')\n",
    "\n",
    "(estimated_beta_diffBeta,num_iteration_diffBeta)=gradient_descent(X,y, stop_cond='norm_beta')\n",
    "np.shape(X)\n",
    "print (\"diffBeta stop condition\")\n",
    "print(estimated_beta_diffBeta)\n",
    "print(num_iteration_diffBeta,'\\n')\n"
   ]
  },
  {
   "cell_type": "markdown",
   "id": "strategic-relevance",
   "metadata": {},
   "source": [
    "## compare between coef from gradient descent and sklearn model "
   ]
  },
  {
   "cell_type": "code",
   "execution_count": 271,
   "id": "environmental-charge",
   "metadata": {},
   "outputs": [
    {
     "name": "stdout",
     "output_type": "stream",
     "text": [
      "cost stop condition\n",
      "[-2.13162821e-14  5.07293325e-05 -8.92817661e-05 -2.76879614e-04\n",
      "  3.96019460e-05  4.86306827e-05  5.03381785e-05 -4.26150333e-05\n",
      " -1.98706430e-05 -6.98527419e-04  7.93957509e-04  2.59250868e-05\n",
      " -4.89428724e-06  2.69565385e-05]\n",
      "gradient stop condition\n",
      "[-2.13162821e-14  1.41042733e-12 -2.48578935e-12 -7.71804842e-12\n",
      "  1.10467191e-12  1.33892897e-12  1.40021328e-12 -1.18572513e-12\n",
      " -5.61328761e-13 -1.94675387e-11  2.21285212e-11  7.18092252e-13\n",
      " -1.35003120e-13  7.47402140e-13]\n",
      "diff beta stop condition\n",
      "[-2.13162821e-14 -7.15481752e-09  1.25991588e-08  3.90928451e-08\n",
      " -5.59304325e-09 -6.79330237e-09 -7.09483894e-09  6.00237567e-09\n",
      "  2.84910051e-09  9.86349300e-08 -1.12141012e-07 -3.64309960e-09\n",
      "  6.94906799e-10 -3.80403886e-09]\n"
     ]
    }
   ],
   "source": [
    "print (\"cost stop condition\") \n",
    "print(estimated_beta_cost-reg_betas)\n",
    "print(\"gradient stop condition\")\n",
    "print(estimated_beta_grad - reg_betas)\n",
    "print ('diff beta stop condition')\n",
    "print(estimated_beta_diffBeta - reg_betas)"
   ]
  },
  {
   "cell_type": "code",
   "execution_count": 272,
   "id": "aerial-contractor",
   "metadata": {},
   "outputs": [],
   "source": [
    "n = np.size(y)\n",
    "y_mean = (sum(y)/n)*np.ones(np.shape(y))\n",
    "def predict (X,beta):\n",
    "        return X@beta\n",
    "def getSSR (X,y,beta):\n",
    "        return (predict(X,beta)-y_mean).T@(predict(X,beta)-y_mean)\n",
    "def getSST (X,y,beta):\n",
    "        return (y-y_mean).T@(y-y_mean)\n",
    "def getRSquared (X,y,beta):\n",
    "        return getSSR(X,y,beta)/getSST(X,y,beta)"
   ]
  },
  {
   "cell_type": "code",
   "execution_count": 273,
   "id": "pressed-valve",
   "metadata": {},
   "outputs": [
    {
     "data": {
      "text/plain": [
       "0.7406426641092532"
      ]
     },
     "execution_count": 273,
     "metadata": {},
     "output_type": "execute_result"
    }
   ],
   "source": [
    "getRSquared(sm.add_constant(X),y,estimated_beta_grad)"
   ]
  },
  {
   "cell_type": "code",
   "execution_count": 274,
   "id": "incident-press",
   "metadata": {},
   "outputs": [],
   "source": [
    "def cost(X, Y, beta):\n",
    "  return ((Y - (X @ beta))**2).mean()"
   ]
  },
  {
   "cell_type": "markdown",
   "id": "excited-speech",
   "metadata": {},
   "source": [
    "## standralization of X and calc R^2 using beta estimated from gradient descent"
   ]
  },
  {
   "cell_type": "code",
   "execution_count": 275,
   "id": "latest-geneva",
   "metadata": {},
   "outputs": [
    {
     "data": {
      "text/plain": [
       "0.7406426641092532"
      ]
     },
     "execution_count": 275,
     "metadata": {},
     "output_type": "execute_result"
    }
   ],
   "source": [
    "\n",
    "getRSquared(sm.add_constant(X),y,estimated_beta_grad)"
   ]
  },
  {
   "cell_type": "markdown",
   "id": "understanding-ballet",
   "metadata": {},
   "source": [
    "## Plot learning Curves of Model"
   ]
  },
  {
   "cell_type": "code",
   "execution_count": 276,
   "id": "sensitive-radical",
   "metadata": {},
   "outputs": [],
   "source": [
    "def plot_learning_curves(model, X, y):\n",
    "    X_train, X_test, y_train, y_test = train_test_split(X, y, test_size=0.1,random_state= 42)\n",
    "        \n",
    "    train_errors , val_errors = [],[]\n",
    "    for i in range (1,len(X_train)):\n",
    "        model.fit(X_train[:i],y_train[:i])\n",
    "        y_train_predict= model.predict(X_train[:i])\n",
    "        y_test_predict = model.predict(X_test)\n",
    "        train_errors.append(mean_squared_error(y_train[:i],y_train_predict))\n",
    "        val_errors.append(mean_squared_error(y_test,y_test_predict))\n",
    "    plt.plot(np.sqrt(train_errors),  label = 'train')\n",
    "    plt.plot(np.sqrt(val_errors), label = \"test\")"
   ]
  },
  {
   "cell_type": "code",
   "execution_count": 277,
   "id": "descending-train",
   "metadata": {},
   "outputs": [
    {
     "data": {
      "text/plain": [
       "(506, 13)"
      ]
     },
     "execution_count": 277,
     "metadata": {},
     "output_type": "execute_result"
    },
    {
     "data": {
      "image/png": "[encoded data removed]",
      "text/plain": [
       "<Figure size 432x288 with 1 Axes>"
      ]
     },
     "metadata": {
      "needs_background": "light"
     },
     "output_type": "display_data"
    }
   ],
   "source": [
    "plot_learning_curves(reg,X,y)\n",
    "np.shape(X)"
   ]
  },
  {
   "cell_type": "markdown",
   "id": "difficult-speech",
   "metadata": {},
   "source": [
    "## use cross validation to tune lambda parameter for ridge regression"
   ]
  },
  {
   "cell_type": "code",
   "execution_count": 278,
   "id": "natural-scott",
   "metadata": {},
   "outputs": [],
   "source": [
    "def get_alpha (X,y):\n",
    "    cv = KFold(n_splits= 10)\n",
    "    parameters = np.arange(0,200,0.1)\n",
    "    alpha = 0\n",
    "    max_score = sys.maxsize*-1\n",
    "    for par in parameters:\n",
    "        ridge = linear_model.Ridge(alpha = par )\n",
    "        tot_score = 0\n",
    "        for X_train_idx,X_test_idx in cv.split(X):\n",
    "            X_train = X[X_train_idx]\n",
    "            y_train = y[X_train_idx]\n",
    "            X_test =X[X_test_idx]\n",
    "            y_test = y[X_test_idx]\n",
    "            ridge.fit(X_train, y_train)\n",
    "            tot_score += r2_score(y_test,ridge.predict(X_test))\n",
    "         \n",
    "        tot_score/=10\n",
    "        \n",
    "        \n",
    "        if tot_score > max_score:\n",
    "            alpha = par\n",
    "            max_score = tot_score\n",
    "    return alpha        "
   ]
  },
  {
   "cell_type": "code",
   "execution_count": 279,
   "id": "union-regular",
   "metadata": {},
   "outputs": [
    {
     "data": {
      "text/plain": [
       "112.30000000000001"
      ]
     },
     "execution_count": 279,
     "metadata": {},
     "output_type": "execute_result"
    }
   ],
   "source": [
    "alpha = get_alpha(X,y)\n",
    "alpha"
   ]
  },
  {
   "cell_type": "code",
   "execution_count": 217,
   "id": "rental-beauty",
   "metadata": {},
   "outputs": [
    {
     "name": "stdout",
     "output_type": "stream",
     "text": [
      "r^2 score for linear regression 0.7598135533532475\n",
      "r^2 score for ridge regression 0.76588622025535\n",
      "adj r^2 score for linear regression 0.6754237207476317\n",
      "adj r^2 score for ridge regression 0.6836300273720946\n"
     ]
    }
   ],
   "source": [
    "ridge = linear_model.Ridge(alpha = alpha)\n",
    "X_train, X_test, y_train, y_test = train_test_split(X, y, test_size=0.1,random_state=42)\n",
    "linear_reg = linear_model.LinearRegression()\n",
    "ridge.fit(X_train,y_train)\n",
    "linear_reg.fit(X_train,y_train)\n",
    "(n,p) = np.shape(X_test)\n",
    "r_score=r2_score(y_test,ridge.predict(X_test))\n",
    "l_score=r2_score(y_test,linear_reg.predict(X_test))\n",
    "adj_r_score = adjusted_R(r_score,n,p)\n",
    "adj_l_score = adjusted_R(l_score,n,p)\n",
    "print (\"r^2 score for linear regression\",l_score)\n",
    "print(\"r^2 score for ridge regression\",r_score)\n",
    "print (\"adj r^2 score for linear regression\",adj_l_score)\n",
    "print(\"adj r^2 score for ridge regression\",adj_r_score)"
   ]
  },
  {
   "cell_type": "code",
   "execution_count": 206,
   "id": "exact-district",
   "metadata": {},
   "outputs": [
    {
     "data": {
      "text/plain": [
       "(506, 13)"
      ]
     },
     "execution_count": 206,
     "metadata": {},
     "output_type": "execute_result"
    },
    {
     "data": {
      "image/png": "[encoded data removed]",
      "text/plain": [
       "<Figure size 432x288 with 1 Axes>"
      ]
     },
     "metadata": {
      "needs_background": "light"
     },
     "output_type": "display_data"
    }
   ],
   "source": [
    "plot_learning_curves(ridge,X,y)\n",
    "np.shape(X)"
   ]
  },
  {
   "cell_type": "markdown",
   "id": "russian-marketing",
   "metadata": {},
   "source": [
    "## Compare between Coefficients before and after ridge regression"
   ]
  },
  {
   "cell_type": "code",
   "execution_count": 207,
   "id": "utility-still",
   "metadata": {},
   "outputs": [
    {
     "name": "stdout",
     "output_type": "stream",
     "text": [
      "Coef fot linear Regression:  [22.532806324110677, -0.9281460643011966, 1.0815686278223822, 0.14089999690428612, 0.6817397247777939, -2.0567182660052157, 2.674230165239318, 0.01946607165704728, -3.104044258086441, 2.662217642473626, -2.0767816838433766, -2.0606066589067593, 0.8492684177053297, -3.7436271264671093]\n",
      "Coef for ridge Regression:  [22.595978892367725, -0.6986156689129943, 0.3961486934815475, -0.42220901819230866, 0.754213784582829, -0.8878258445247157, 2.7191615403286726, -0.11395992884410798, -1.5465144334524263, 0.5732995723447495, -0.5211029589664686, -1.5930461028176979, 0.8116067742021732, -2.9608509287975995]\n",
      "Difference:  [0.06317257 0.2295304  0.68541993 0.56310902 0.07247406 1.16889242\n",
      " 0.04493138 0.133426   1.55752982 2.08891807 1.55567872 0.46756056\n",
      " 0.03766164 0.7827762 ]\n"
     ]
    }
   ],
   "source": [
    "## get coef with ridge regression\n",
    "ridge_beta = []\n",
    "ridge_beta.append(ridge.intercept_)\n",
    "ridge_beta.extend(ridge.coef_)\n",
    "print(\"Coef fot linear Regression: \" ,reg_betas)\n",
    "print(\"Coef for ridge Regression: \" ,ridge_beta)\n",
    "print(\"Difference: \",abs(np.subtract(reg_betas,ridge_beta)))"
   ]
  },
  {
   "cell_type": "markdown",
   "id": "annual-pavilion",
   "metadata": {},
   "source": [
    "## feature selection"
   ]
  },
  {
   "cell_type": "code",
   "execution_count": 227,
   "id": "behind-mistake",
   "metadata": {},
   "outputs": [
    {
     "data": {
      "text/plain": [
       "[[]]"
      ]
     },
     "execution_count": 227,
     "metadata": {},
     "output_type": "execute_result"
    }
   ],
   "source": [
    "def adjusted_R (r2 , n, p):\n",
    "    return 1-((n-1)*(1-r2)/(n-p-1))\n",
    "\n",
    "r = np.ones((np.size(y),1))\n",
    "my_model = MultipleLinearRegression(r,y)\n",
    "my_model.getRSquared(my_model.getbeta())\n",
    "step_features = []\n",
    "step_features.append([])\n",
    "step_features"
   ]
  },
  {
   "cell_type": "code",
   "execution_count": 306,
   "id": "american-single",
   "metadata": {},
   "outputs": [],
   "source": [
    "def forward_step_wise (features,data,y):\n",
    "    lin_reg = linear_model.LinearRegression()\n",
    "    step_features = []\n",
    "    step_features.append([])\n",
    "    curr_features = step_features[0].copy()\n",
    "    p = np.size(features)\n",
    "    for i in range (1,p+1):\n",
    "        taken_feature = ''\n",
    "        max_score = sys.maxsize *-1\n",
    "        for feature in features:\n",
    "            trial_features = curr_features.copy()\n",
    "            trial_features.append(feature)\n",
    "            \n",
    "            lin_reg.fit(data[trial_features],y)\n",
    "            model_score = lin_reg.score(data[trial_features],y)\n",
    "            if model_score > max_score:\n",
    "                max_score = model_score\n",
    "                taken_feature = feature\n",
    "        curr_features.append(taken_feature)\n",
    "        step_features.append(curr_features.copy())\n",
    "        features.remove(taken_feature)\n",
    "    return step_features    "
   ]
  },
  {
   "cell_type": "code",
   "execution_count": 316,
   "id": "dimensional-removal",
   "metadata": {},
   "outputs": [
    {
     "data": {
      "text/plain": [
       "[]"
      ]
     },
     "execution_count": 316,
     "metadata": {},
     "output_type": "execute_result"
    }
   ],
   "source": [
    "feature_selections_models = forward_step_wise(features.copy(),boston_data,boston_data.price)\n",
    "\n",
    "feature_selections_models\n",
    "features"
   ]
  },
  {
   "cell_type": "code",
   "execution_count": 322,
   "id": "molecular-microphone",
   "metadata": {},
   "outputs": [],
   "source": [
    "def select_features(features,data,y):\n",
    "    m_features = forward_step_wise(features.copy(),data,y)\n",
    "    \n",
    "    train_test_split\n",
    "    max_score = 0\n",
    "    selected_features= []\n",
    "    for i in range(1,len(m_features)):\n",
    "        n = np.size(y)\n",
    "        p = i\n",
    "        curr_features = m_features[i].copy()\n",
    "        X = data[curr_features]\n",
    "        X_train, X_test, y_train, y_test = train_test_split(X, y, test_size=0.33, random_state=42)\n",
    "        lin_model = linear_model.LinearRegression()\n",
    "        lin_model.fit(X_train,y_train)\n",
    "        curr_score = lin_model.score(X_test,y_test)\n",
    "       # curr_adj_score=ad(curr_score,n,p)\n",
    "        if (curr_score>max_score):\n",
    "            max_score = curr_score\n",
    "            selected_features = curr_features.copy()\n",
    "    return selected_features       "
   ]
  },
  {
   "cell_type": "code",
   "execution_count": 323,
   "id": "geological-malawi",
   "metadata": {},
   "outputs": [
    {
     "data": {
      "text/plain": [
       "['LSTAT',\n",
       " 'RM',\n",
       " 'PTRATIO',\n",
       " 'DIS',\n",
       " 'NOX',\n",
       " 'CHAS',\n",
       " 'B',\n",
       " 'ZN',\n",
       " 'CRIM',\n",
       " 'RAD',\n",
       " 'TAX']"
      ]
     },
     "execution_count": 323,
     "metadata": {},
     "output_type": "execute_result"
    }
   ],
   "source": [
    "select_features(features,boston_data,boston_data.price)\n"
   ]
  },
  {
   "cell_type": "code",
   "execution_count": null,
   "id": "circular-expression",
   "metadata": {},
   "outputs": [],
   "source": []
  }
 ],
 "metadata": {
  "kernelspec": {
   "display_name": "Python 3",
   "language": "python",
   "name": "python3"
  },
  "language_info": {
   "codemirror_mode": {
    "name": "ipython",
    "version": 3
   },
   "file_extension": ".py",
   "mimetype": "text/x-python",
   "name": "python",
   "nbconvert_exporter": "python",
   "pygments_lexer": "ipython3",
   "version": "3.8.10"
  }
 },
 "nbformat": 4,
 "nbformat_minor": 5
}
